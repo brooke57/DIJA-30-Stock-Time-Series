{
 "cells": [
  {
   "cell_type": "code",
   "execution_count": 1,
   "id": "3a132c64",
   "metadata": {
    "_cell_guid": "b1076dfc-b9ad-4769-8c92-a6c4dae69d19",
    "_uuid": "8f2839f25d086af736a60e9eeb907d3b93b6e0e5",
    "execution": {
     "iopub.execute_input": "2022-05-05T03:31:28.938144Z",
     "iopub.status.busy": "2022-05-05T03:31:28.937511Z",
     "iopub.status.idle": "2022-05-05T03:31:28.967114Z",
     "shell.execute_reply": "2022-05-05T03:31:28.966232Z"
    },
    "papermill": {
     "duration": 0.074801,
     "end_time": "2022-05-05T03:31:28.969958",
     "exception": false,
     "start_time": "2022-05-05T03:31:28.895157",
     "status": "completed"
    },
    "scrolled": true,
    "tags": []
   },
   "outputs": [
    {
     "name": "stdout",
     "output_type": "stream",
     "text": [
      "/kaggle/input/stock-time-series-20050101-to-20171231/CAT_2006-01-01_to_2018-01-01.csv\n",
      "/kaggle/input/stock-time-series-20050101-to-20171231/UTX_2006-01-01_to_2018-01-01.csv\n",
      "/kaggle/input/stock-time-series-20050101-to-20171231/PFE_2006-01-01_to_2018-01-01.csv\n",
      "/kaggle/input/stock-time-series-20050101-to-20171231/PG_2006-01-01_to_2018-01-01.csv\n",
      "/kaggle/input/stock-time-series-20050101-to-20171231/UNH_2006-01-01_to_2018-01-01.csv\n",
      "/kaggle/input/stock-time-series-20050101-to-20171231/JNJ_2006-01-01_to_2018-01-01.csv\n",
      "/kaggle/input/stock-time-series-20050101-to-20171231/VZ_2006-01-01_to_2018-01-01.csv\n",
      "/kaggle/input/stock-time-series-20050101-to-20171231/AABA_2006-01-01_to_2018-01-01.csv\n",
      "/kaggle/input/stock-time-series-20050101-to-20171231/BA_2006-01-01_to_2018-01-01.csv\n",
      "/kaggle/input/stock-time-series-20050101-to-20171231/KO_2006-01-01_to_2018-01-01.csv\n",
      "/kaggle/input/stock-time-series-20050101-to-20171231/MCD_2006-01-01_to_2018-01-01.csv\n",
      "/kaggle/input/stock-time-series-20050101-to-20171231/MRK_2006-01-01_to_2018-01-01.csv\n",
      "/kaggle/input/stock-time-series-20050101-to-20171231/AMZN_2006-01-01_to_2018-01-01.csv\n",
      "/kaggle/input/stock-time-series-20050101-to-20171231/WMT_2006-01-01_to_2018-01-01.csv\n",
      "/kaggle/input/stock-time-series-20050101-to-20171231/IBM_2006-01-01_to_2018-01-01.csv\n",
      "/kaggle/input/stock-time-series-20050101-to-20171231/DIS_2006-01-01_to_2018-01-01.csv\n",
      "/kaggle/input/stock-time-series-20050101-to-20171231/NKE_2006-01-01_to_2018-01-01.csv\n",
      "/kaggle/input/stock-time-series-20050101-to-20171231/MSFT_2006-01-01_to_2018-01-01.csv\n",
      "/kaggle/input/stock-time-series-20050101-to-20171231/AXP_2006-01-01_to_2018-01-01.csv\n",
      "/kaggle/input/stock-time-series-20050101-to-20171231/CSCO_2006-01-01_to_2018-01-01.csv\n",
      "/kaggle/input/stock-time-series-20050101-to-20171231/CVX_2006-01-01_to_2018-01-01.csv\n",
      "/kaggle/input/stock-time-series-20050101-to-20171231/GS_2006-01-01_to_2018-01-01.csv\n",
      "/kaggle/input/stock-time-series-20050101-to-20171231/JPM_2006-01-01_to_2018-01-01.csv\n",
      "/kaggle/input/stock-time-series-20050101-to-20171231/all_stocks_2017-01-01_to_2018-01-01.csv\n",
      "/kaggle/input/stock-time-series-20050101-to-20171231/GE_2006-01-01_to_2018-01-01.csv\n",
      "/kaggle/input/stock-time-series-20050101-to-20171231/TRV_2006-01-01_to_2018-01-01.csv\n",
      "/kaggle/input/stock-time-series-20050101-to-20171231/INTC_2006-01-01_to_2018-01-01.csv\n",
      "/kaggle/input/stock-time-series-20050101-to-20171231/XOM_2006-01-01_to_2018-01-01.csv\n",
      "/kaggle/input/stock-time-series-20050101-to-20171231/GOOGL_2006-01-01_to_2018-01-01.csv\n",
      "/kaggle/input/stock-time-series-20050101-to-20171231/all_stocks_2006-01-01_to_2018-01-01.csv\n",
      "/kaggle/input/stock-time-series-20050101-to-20171231/MMM_2006-01-01_to_2018-01-01.csv\n",
      "/kaggle/input/stock-time-series-20050101-to-20171231/HD_2006-01-01_to_2018-01-01.csv\n",
      "/kaggle/input/stock-time-series-20050101-to-20171231/AAPL_2006-01-01_to_2018-01-01.csv\n"
     ]
    }
   ],
   "source": [
    "# This Python 3 environment comes with many helpful analytics libraries installed\n",
    "# It is defined by the kaggle/python Docker image: https://github.com/kaggle/docker-python\n",
    "# For example, here's several helpful packages to load\n",
    "\n",
    "import numpy as np # linear algebra\n",
    "import pandas as pd # data processing, CSV file I/O (e.g. pd.read_csv)\n",
    "\n",
    "# Input data files are available in the read-only \"../input/\" directory\n",
    "# For example, running this (by clicking run or pressing Shift+Enter) will list all files under the input directory\n",
    "\n",
    "import os\n",
    "for dirname, _, filenames in os.walk('/kaggle/input'):\n",
    "    for filename in filenames:\n",
    "        print(os.path.join(dirname, filename))\n",
    "\n",
    "# You can write up to 20GB to the current directory (/kaggle/working/) that gets preserved as output when you create a version using \"Save & Run All\" \n",
    "# You can also write temporary files to /kaggle/temp/, but they won't be saved outside of the current session"
   ]
  },
  {
   "cell_type": "code",
   "execution_count": 2,
   "id": "9322987e",
   "metadata": {
    "execution": {
     "iopub.execute_input": "2022-05-05T03:31:29.050637Z",
     "iopub.status.busy": "2022-05-05T03:31:29.050103Z",
     "iopub.status.idle": "2022-05-05T03:31:30.298287Z",
     "shell.execute_reply": "2022-05-05T03:31:30.297516Z"
    },
    "papermill": {
     "duration": 1.288971,
     "end_time": "2022-05-05T03:31:30.300456",
     "exception": false,
     "start_time": "2022-05-05T03:31:29.011485",
     "status": "completed"
    },
    "tags": []
   },
   "outputs": [],
   "source": [
    "import matplotlib.pyplot as plt\n",
    "import seaborn as sns\n",
    "from statsmodels.tsa.deterministic import DeterministicProcess, CalendarFourier\n",
    "from sklearn.model_selection import train_test_split\n",
    "from sklearn.linear_model import LinearRegression\n",
    "from learntools.time_series.utils import plot_periodogram, seasonal_plot"
   ]
  },
  {
   "cell_type": "code",
   "execution_count": 3,
   "id": "04eccea8",
   "metadata": {
    "execution": {
     "iopub.execute_input": "2022-05-05T03:31:30.377058Z",
     "iopub.status.busy": "2022-05-05T03:31:30.376652Z",
     "iopub.status.idle": "2022-05-05T03:31:30.418603Z",
     "shell.execute_reply": "2022-05-05T03:31:30.417976Z"
    },
    "papermill": {
     "duration": 0.081767,
     "end_time": "2022-05-05T03:31:30.420656",
     "exception": false,
     "start_time": "2022-05-05T03:31:30.338889",
     "status": "completed"
    },
    "tags": []
   },
   "outputs": [
    {
     "data": {
      "text/html": [
       "<div>\n",
       "<style scoped>\n",
       "    .dataframe tbody tr th:only-of-type {\n",
       "        vertical-align: middle;\n",
       "    }\n",
       "\n",
       "    .dataframe tbody tr th {\n",
       "        vertical-align: top;\n",
       "    }\n",
       "\n",
       "    .dataframe thead th {\n",
       "        text-align: right;\n",
       "    }\n",
       "</style>\n",
       "<table border=\"1\" class=\"dataframe\">\n",
       "  <thead>\n",
       "    <tr style=\"text-align: right;\">\n",
       "      <th></th>\n",
       "      <th>Open</th>\n",
       "      <th>High</th>\n",
       "      <th>Low</th>\n",
       "      <th>Close</th>\n",
       "      <th>Volume</th>\n",
       "      <th>Name</th>\n",
       "    </tr>\n",
       "    <tr>\n",
       "      <th>Date</th>\n",
       "      <th></th>\n",
       "      <th></th>\n",
       "      <th></th>\n",
       "      <th></th>\n",
       "      <th></th>\n",
       "      <th></th>\n",
       "    </tr>\n",
       "  </thead>\n",
       "  <tbody>\n",
       "    <tr>\n",
       "      <th>2006-01-03</th>\n",
       "      <td>47.47</td>\n",
       "      <td>47.85</td>\n",
       "      <td>46.25</td>\n",
       "      <td>47.58</td>\n",
       "      <td>7582127</td>\n",
       "      <td>AMZN</td>\n",
       "    </tr>\n",
       "    <tr>\n",
       "      <th>2006-01-04</th>\n",
       "      <td>47.48</td>\n",
       "      <td>47.73</td>\n",
       "      <td>46.69</td>\n",
       "      <td>47.25</td>\n",
       "      <td>7440914</td>\n",
       "      <td>AMZN</td>\n",
       "    </tr>\n",
       "    <tr>\n",
       "      <th>2006-01-05</th>\n",
       "      <td>47.16</td>\n",
       "      <td>48.20</td>\n",
       "      <td>47.11</td>\n",
       "      <td>47.65</td>\n",
       "      <td>5417258</td>\n",
       "      <td>AMZN</td>\n",
       "    </tr>\n",
       "    <tr>\n",
       "      <th>2006-01-06</th>\n",
       "      <td>47.97</td>\n",
       "      <td>48.58</td>\n",
       "      <td>47.32</td>\n",
       "      <td>47.87</td>\n",
       "      <td>6154285</td>\n",
       "      <td>AMZN</td>\n",
       "    </tr>\n",
       "    <tr>\n",
       "      <th>2006-01-09</th>\n",
       "      <td>46.55</td>\n",
       "      <td>47.10</td>\n",
       "      <td>46.40</td>\n",
       "      <td>47.08</td>\n",
       "      <td>8945056</td>\n",
       "      <td>AMZN</td>\n",
       "    </tr>\n",
       "  </tbody>\n",
       "</table>\n",
       "</div>"
      ],
      "text/plain": [
       "             Open   High    Low  Close   Volume  Name\n",
       "Date                                                 \n",
       "2006-01-03  47.47  47.85  46.25  47.58  7582127  AMZN\n",
       "2006-01-04  47.48  47.73  46.69  47.25  7440914  AMZN\n",
       "2006-01-05  47.16  48.20  47.11  47.65  5417258  AMZN\n",
       "2006-01-06  47.97  48.58  47.32  47.87  6154285  AMZN\n",
       "2006-01-09  46.55  47.10  46.40  47.08  8945056  AMZN"
      ]
     },
     "execution_count": 3,
     "metadata": {},
     "output_type": "execute_result"
    }
   ],
   "source": [
    "\n",
    "amzn = pd.read_csv('../input/stock-time-series-20050101-to-20171231/AMZN_2006-01-01_to_2018-01-01.csv',\n",
    "index_col='Date', parse_dates=['Date'])\n",
    "amzn.head()"
   ]
  },
  {
   "cell_type": "code",
   "execution_count": 4,
   "id": "57d6cdf1",
   "metadata": {
    "execution": {
     "iopub.execute_input": "2022-05-05T03:31:30.495626Z",
     "iopub.status.busy": "2022-05-05T03:31:30.495103Z",
     "iopub.status.idle": "2022-05-05T03:31:30.513089Z",
     "shell.execute_reply": "2022-05-05T03:31:30.512387Z"
    },
    "papermill": {
     "duration": 0.05798,
     "end_time": "2022-05-05T03:31:30.515557",
     "exception": false,
     "start_time": "2022-05-05T03:31:30.457577",
     "status": "completed"
    },
    "tags": []
   },
   "outputs": [
    {
     "name": "stdout",
     "output_type": "stream",
     "text": [
      "<class 'pandas.core.frame.DataFrame'>\n",
      "DatetimeIndex: 3019 entries, 2006-01-03 to 2017-12-29\n",
      "Data columns (total 6 columns):\n",
      " #   Column  Non-Null Count  Dtype  \n",
      "---  ------  --------------  -----  \n",
      " 0   Open    3019 non-null   float64\n",
      " 1   High    3019 non-null   float64\n",
      " 2   Low     3019 non-null   float64\n",
      " 3   Close   3019 non-null   float64\n",
      " 4   Volume  3019 non-null   int64  \n",
      " 5   Name    3019 non-null   object \n",
      "dtypes: float64(4), int64(1), object(1)\n",
      "memory usage: 165.1+ KB\n"
     ]
    }
   ],
   "source": [
    "amzn.info()"
   ]
  },
  {
   "cell_type": "code",
   "execution_count": 5,
   "id": "8d64bf29",
   "metadata": {
    "execution": {
     "iopub.execute_input": "2022-05-05T03:31:30.593996Z",
     "iopub.status.busy": "2022-05-05T03:31:30.592956Z",
     "iopub.status.idle": "2022-05-05T03:31:30.598355Z",
     "shell.execute_reply": "2022-05-05T03:31:30.597771Z"
    },
    "papermill": {
     "duration": 0.045874,
     "end_time": "2022-05-05T03:31:30.600144",
     "exception": false,
     "start_time": "2022-05-05T03:31:30.554270",
     "status": "completed"
    },
    "tags": []
   },
   "outputs": [],
   "source": [
    "amzn.reset_index(inplace=True)"
   ]
  },
  {
   "cell_type": "code",
   "execution_count": 6,
   "id": "c0f0f29d",
   "metadata": {
    "execution": {
     "iopub.execute_input": "2022-05-05T03:31:30.676237Z",
     "iopub.status.busy": "2022-05-05T03:31:30.675447Z",
     "iopub.status.idle": "2022-05-05T03:31:30.709357Z",
     "shell.execute_reply": "2022-05-05T03:31:30.708478Z"
    },
    "papermill": {
     "duration": 0.074277,
     "end_time": "2022-05-05T03:31:30.711447",
     "exception": false,
     "start_time": "2022-05-05T03:31:30.637170",
     "status": "completed"
    },
    "tags": []
   },
   "outputs": [
    {
     "data": {
      "text/html": [
       "<div>\n",
       "<style scoped>\n",
       "    .dataframe tbody tr th:only-of-type {\n",
       "        vertical-align: middle;\n",
       "    }\n",
       "\n",
       "    .dataframe tbody tr th {\n",
       "        vertical-align: top;\n",
       "    }\n",
       "\n",
       "    .dataframe thead th {\n",
       "        text-align: right;\n",
       "    }\n",
       "</style>\n",
       "<table border=\"1\" class=\"dataframe\">\n",
       "  <thead>\n",
       "    <tr style=\"text-align: right;\">\n",
       "      <th></th>\n",
       "      <th>Date</th>\n",
       "      <th>Open</th>\n",
       "      <th>High</th>\n",
       "      <th>Low</th>\n",
       "      <th>Close</th>\n",
       "      <th>Volume</th>\n",
       "      <th>Name</th>\n",
       "      <th>month</th>\n",
       "      <th>day</th>\n",
       "      <th>day_name</th>\n",
       "      <th>year</th>\n",
       "    </tr>\n",
       "  </thead>\n",
       "  <tbody>\n",
       "    <tr>\n",
       "      <th>0</th>\n",
       "      <td>2006-01-03</td>\n",
       "      <td>47.47</td>\n",
       "      <td>47.85</td>\n",
       "      <td>46.25</td>\n",
       "      <td>47.58</td>\n",
       "      <td>7582127</td>\n",
       "      <td>AMZN</td>\n",
       "      <td>1</td>\n",
       "      <td>3</td>\n",
       "      <td>Tuesday</td>\n",
       "      <td>2006</td>\n",
       "    </tr>\n",
       "    <tr>\n",
       "      <th>1</th>\n",
       "      <td>2006-01-04</td>\n",
       "      <td>47.48</td>\n",
       "      <td>47.73</td>\n",
       "      <td>46.69</td>\n",
       "      <td>47.25</td>\n",
       "      <td>7440914</td>\n",
       "      <td>AMZN</td>\n",
       "      <td>1</td>\n",
       "      <td>4</td>\n",
       "      <td>Wednesday</td>\n",
       "      <td>2006</td>\n",
       "    </tr>\n",
       "    <tr>\n",
       "      <th>2</th>\n",
       "      <td>2006-01-05</td>\n",
       "      <td>47.16</td>\n",
       "      <td>48.20</td>\n",
       "      <td>47.11</td>\n",
       "      <td>47.65</td>\n",
       "      <td>5417258</td>\n",
       "      <td>AMZN</td>\n",
       "      <td>1</td>\n",
       "      <td>5</td>\n",
       "      <td>Thursday</td>\n",
       "      <td>2006</td>\n",
       "    </tr>\n",
       "    <tr>\n",
       "      <th>3</th>\n",
       "      <td>2006-01-06</td>\n",
       "      <td>47.97</td>\n",
       "      <td>48.58</td>\n",
       "      <td>47.32</td>\n",
       "      <td>47.87</td>\n",
       "      <td>6154285</td>\n",
       "      <td>AMZN</td>\n",
       "      <td>1</td>\n",
       "      <td>6</td>\n",
       "      <td>Friday</td>\n",
       "      <td>2006</td>\n",
       "    </tr>\n",
       "    <tr>\n",
       "      <th>4</th>\n",
       "      <td>2006-01-09</td>\n",
       "      <td>46.55</td>\n",
       "      <td>47.10</td>\n",
       "      <td>46.40</td>\n",
       "      <td>47.08</td>\n",
       "      <td>8945056</td>\n",
       "      <td>AMZN</td>\n",
       "      <td>1</td>\n",
       "      <td>9</td>\n",
       "      <td>Monday</td>\n",
       "      <td>2006</td>\n",
       "    </tr>\n",
       "  </tbody>\n",
       "</table>\n",
       "</div>"
      ],
      "text/plain": [
       "        Date   Open   High    Low  Close   Volume  Name  month  day  \\\n",
       "0 2006-01-03  47.47  47.85  46.25  47.58  7582127  AMZN      1    3   \n",
       "1 2006-01-04  47.48  47.73  46.69  47.25  7440914  AMZN      1    4   \n",
       "2 2006-01-05  47.16  48.20  47.11  47.65  5417258  AMZN      1    5   \n",
       "3 2006-01-06  47.97  48.58  47.32  47.87  6154285  AMZN      1    6   \n",
       "4 2006-01-09  46.55  47.10  46.40  47.08  8945056  AMZN      1    9   \n",
       "\n",
       "    day_name  year  \n",
       "0    Tuesday  2006  \n",
       "1  Wednesday  2006  \n",
       "2   Thursday  2006  \n",
       "3     Friday  2006  \n",
       "4     Monday  2006  "
      ]
     },
     "execution_count": 6,
     "metadata": {},
     "output_type": "execute_result"
    }
   ],
   "source": [
    "# Adding more features to the dataset, in the form day of week, month, and year\n",
    "amzn['month'] = pd.to_datetime(amzn['Date']).dt.month\n",
    "amzn['day'] = pd.to_datetime(amzn['Date']).dt.day\n",
    "amzn['day_name'] = pd.to_datetime(amzn['Date']).dt.day_name()\n",
    "amzn['year'] = pd.to_datetime(amzn['Date']).dt.year\n",
    "amzn.head()"
   ]
  },
  {
   "cell_type": "code",
   "execution_count": 7,
   "id": "4f213963",
   "metadata": {
    "execution": {
     "iopub.execute_input": "2022-05-05T03:31:30.788517Z",
     "iopub.status.busy": "2022-05-05T03:31:30.787878Z",
     "iopub.status.idle": "2022-05-05T03:31:30.793100Z",
     "shell.execute_reply": "2022-05-05T03:31:30.792529Z"
    },
    "papermill": {
     "duration": 0.045843,
     "end_time": "2022-05-05T03:31:30.794773",
     "exception": false,
     "start_time": "2022-05-05T03:31:30.748930",
     "status": "completed"
    },
    "tags": []
   },
   "outputs": [],
   "source": [
    "amzn.set_index('Date', inplace=True)"
   ]
  },
  {
   "cell_type": "code",
   "execution_count": 8,
   "id": "1de81d0c",
   "metadata": {
    "execution": {
     "iopub.execute_input": "2022-05-05T03:31:30.871630Z",
     "iopub.status.busy": "2022-05-05T03:31:30.870890Z",
     "iopub.status.idle": "2022-05-05T03:31:30.886395Z",
     "shell.execute_reply": "2022-05-05T03:31:30.885481Z"
    },
    "papermill": {
     "duration": 0.056215,
     "end_time": "2022-05-05T03:31:30.888383",
     "exception": false,
     "start_time": "2022-05-05T03:31:30.832168",
     "status": "completed"
    },
    "tags": []
   },
   "outputs": [
    {
     "data": {
      "text/html": [
       "<div>\n",
       "<style scoped>\n",
       "    .dataframe tbody tr th:only-of-type {\n",
       "        vertical-align: middle;\n",
       "    }\n",
       "\n",
       "    .dataframe tbody tr th {\n",
       "        vertical-align: top;\n",
       "    }\n",
       "\n",
       "    .dataframe thead th {\n",
       "        text-align: right;\n",
       "    }\n",
       "</style>\n",
       "<table border=\"1\" class=\"dataframe\">\n",
       "  <thead>\n",
       "    <tr style=\"text-align: right;\">\n",
       "      <th></th>\n",
       "      <th>Open</th>\n",
       "      <th>High</th>\n",
       "      <th>Low</th>\n",
       "      <th>Close</th>\n",
       "      <th>Volume</th>\n",
       "      <th>Name</th>\n",
       "      <th>month</th>\n",
       "      <th>day</th>\n",
       "      <th>day_name</th>\n",
       "      <th>year</th>\n",
       "    </tr>\n",
       "    <tr>\n",
       "      <th>Date</th>\n",
       "      <th></th>\n",
       "      <th></th>\n",
       "      <th></th>\n",
       "      <th></th>\n",
       "      <th></th>\n",
       "      <th></th>\n",
       "      <th></th>\n",
       "      <th></th>\n",
       "      <th></th>\n",
       "      <th></th>\n",
       "    </tr>\n",
       "  </thead>\n",
       "  <tbody>\n",
       "    <tr>\n",
       "      <th>2006-01-03</th>\n",
       "      <td>47.47</td>\n",
       "      <td>47.85</td>\n",
       "      <td>46.25</td>\n",
       "      <td>47.58</td>\n",
       "      <td>7582127</td>\n",
       "      <td>AMZN</td>\n",
       "      <td>1</td>\n",
       "      <td>3</td>\n",
       "      <td>Tuesday</td>\n",
       "      <td>2006</td>\n",
       "    </tr>\n",
       "    <tr>\n",
       "      <th>2006-01-04</th>\n",
       "      <td>47.48</td>\n",
       "      <td>47.73</td>\n",
       "      <td>46.69</td>\n",
       "      <td>47.25</td>\n",
       "      <td>7440914</td>\n",
       "      <td>AMZN</td>\n",
       "      <td>1</td>\n",
       "      <td>4</td>\n",
       "      <td>Wednesday</td>\n",
       "      <td>2006</td>\n",
       "    </tr>\n",
       "    <tr>\n",
       "      <th>2006-01-05</th>\n",
       "      <td>47.16</td>\n",
       "      <td>48.20</td>\n",
       "      <td>47.11</td>\n",
       "      <td>47.65</td>\n",
       "      <td>5417258</td>\n",
       "      <td>AMZN</td>\n",
       "      <td>1</td>\n",
       "      <td>5</td>\n",
       "      <td>Thursday</td>\n",
       "      <td>2006</td>\n",
       "    </tr>\n",
       "    <tr>\n",
       "      <th>2006-01-06</th>\n",
       "      <td>47.97</td>\n",
       "      <td>48.58</td>\n",
       "      <td>47.32</td>\n",
       "      <td>47.87</td>\n",
       "      <td>6154285</td>\n",
       "      <td>AMZN</td>\n",
       "      <td>1</td>\n",
       "      <td>6</td>\n",
       "      <td>Friday</td>\n",
       "      <td>2006</td>\n",
       "    </tr>\n",
       "    <tr>\n",
       "      <th>2006-01-09</th>\n",
       "      <td>46.55</td>\n",
       "      <td>47.10</td>\n",
       "      <td>46.40</td>\n",
       "      <td>47.08</td>\n",
       "      <td>8945056</td>\n",
       "      <td>AMZN</td>\n",
       "      <td>1</td>\n",
       "      <td>9</td>\n",
       "      <td>Monday</td>\n",
       "      <td>2006</td>\n",
       "    </tr>\n",
       "  </tbody>\n",
       "</table>\n",
       "</div>"
      ],
      "text/plain": [
       "             Open   High    Low  Close   Volume  Name  month  day   day_name  \\\n",
       "Date                                                                           \n",
       "2006-01-03  47.47  47.85  46.25  47.58  7582127  AMZN      1    3    Tuesday   \n",
       "2006-01-04  47.48  47.73  46.69  47.25  7440914  AMZN      1    4  Wednesday   \n",
       "2006-01-05  47.16  48.20  47.11  47.65  5417258  AMZN      1    5   Thursday   \n",
       "2006-01-06  47.97  48.58  47.32  47.87  6154285  AMZN      1    6     Friday   \n",
       "2006-01-09  46.55  47.10  46.40  47.08  8945056  AMZN      1    9     Monday   \n",
       "\n",
       "            year  \n",
       "Date              \n",
       "2006-01-03  2006  \n",
       "2006-01-04  2006  \n",
       "2006-01-05  2006  \n",
       "2006-01-06  2006  \n",
       "2006-01-09  2006  "
      ]
     },
     "execution_count": 8,
     "metadata": {},
     "output_type": "execute_result"
    }
   ],
   "source": [
    "amzn.head()"
   ]
  },
  {
   "cell_type": "code",
   "execution_count": 9,
   "id": "7705344c",
   "metadata": {
    "execution": {
     "iopub.execute_input": "2022-05-05T03:31:30.966396Z",
     "iopub.status.busy": "2022-05-05T03:31:30.966144Z",
     "iopub.status.idle": "2022-05-05T03:31:31.248099Z",
     "shell.execute_reply": "2022-05-05T03:31:31.247261Z"
    },
    "papermill": {
     "duration": 0.323234,
     "end_time": "2022-05-05T03:31:31.250078",
     "exception": false,
     "start_time": "2022-05-05T03:31:30.926844",
     "status": "completed"
    },
    "tags": []
   },
   "outputs": [
    {
     "data": {
      "image/png": "[encoded data removed]",
      "text/plain": [
       "<Figure size 720x432 with 1 Axes>"
      ]
     },
     "metadata": {
      "needs_background": "light"
     },
     "output_type": "display_data"
    }
   ],
   "source": [
    "fig, ax = plt.subplots(figsize=(10,6))\n",
    "amzn['High'].resample('M').mean().plot(fontsize=13)\n",
    "ax.set_xlabel(xlabel='Date', fontsize=15)\n",
    "plt.title('Amazon monthly High Stock Price 2006-2018', fontsize=15);"
   ]
  },
  {
   "cell_type": "code",
   "execution_count": 10,
   "id": "b6072a5a",
   "metadata": {
    "execution": {
     "iopub.execute_input": "2022-05-05T03:31:31.330704Z",
     "iopub.status.busy": "2022-05-05T03:31:31.330128Z",
     "iopub.status.idle": "2022-05-05T03:31:31.637998Z",
     "shell.execute_reply": "2022-05-05T03:31:31.637444Z"
    },
    "papermill": {
     "duration": 0.350205,
     "end_time": "2022-05-05T03:31:31.639697",
     "exception": false,
     "start_time": "2022-05-05T03:31:31.289492",
     "status": "completed"
    },
    "tags": []
   },
   "outputs": [
    {
     "data": {
      "image/png": "[encoded data removed]",
      "text/plain": [
       "<Figure size 864x720 with 1 Axes>"
      ]
     },
     "metadata": {
      "needs_background": "light"
     },
     "output_type": "display_data"
    }
   ],
   "source": [
    "fig, ax = plt.subplots(figsize=(12,10))\n",
    "trend = amzn['High'].rolling(\n",
    "    window=365,       # 365-day window\n",
    "    center=True,      # puts the average at the center of the window\n",
    "    min_periods=183,  # choose about half the window size\n",
    ").mean()              # compute the mean (could also do median, std, min, max, ...)\n",
    "\n",
    "ax = amzn['High'].plot(style=\".\", color=\"0.5\")\n",
    "trend.plot(\n",
    "    ax=ax, linewidth=3, title=\"Amazon Stock - 365-Day Moving Average\", legend=False,\n",
    ");"
   ]
  },
  {
   "cell_type": "code",
   "execution_count": 11,
   "id": "07b523ed",
   "metadata": {
    "execution": {
     "iopub.execute_input": "2022-05-05T03:31:31.724512Z",
     "iopub.status.busy": "2022-05-05T03:31:31.723959Z",
     "iopub.status.idle": "2022-05-05T03:31:31.730005Z",
     "shell.execute_reply": "2022-05-05T03:31:31.729446Z"
    },
    "papermill": {
     "duration": 0.050821,
     "end_time": "2022-05-05T03:31:31.731844",
     "exception": false,
     "start_time": "2022-05-05T03:31:31.681023",
     "status": "completed"
    },
    "tags": []
   },
   "outputs": [],
   "source": [
    "total_days = len(amzn.index)\n",
    "val_cut = amzn.index[int(0.9 * total_days)+1]\n",
    "X_train1 = amzn[amzn.index < val_cut]\n",
    "X_val = amzn[amzn.index >= val_cut]"
   ]
  },
  {
   "cell_type": "code",
   "execution_count": 12,
   "id": "4a56df3d",
   "metadata": {
    "execution": {
     "iopub.execute_input": "2022-05-05T03:31:31.817141Z",
     "iopub.status.busy": "2022-05-05T03:31:31.816598Z",
     "iopub.status.idle": "2022-05-05T03:31:31.822239Z",
     "shell.execute_reply": "2022-05-05T03:31:31.821626Z"
    },
    "papermill": {
     "duration": 0.050195,
     "end_time": "2022-05-05T03:31:31.824098",
     "exception": false,
     "start_time": "2022-05-05T03:31:31.773903",
     "status": "completed"
    },
    "tags": []
   },
   "outputs": [],
   "source": [
    "X_tr_tot_days = len(X_train1.index)\n",
    "test_cut = X_train1.index[int(0.75 * X_tr_tot_days)+1]\n",
    "X_train2 = X_train1[X_train1.index < test_cut]\n",
    "X_test = X_train1[X_train1.index >= test_cut]"
   ]
  },
  {
   "cell_type": "code",
   "execution_count": 13,
   "id": "8b9d8542",
   "metadata": {
    "execution": {
     "iopub.execute_input": "2022-05-05T03:31:31.910687Z",
     "iopub.status.busy": "2022-05-05T03:31:31.910029Z",
     "iopub.status.idle": "2022-05-05T03:31:31.917250Z",
     "shell.execute_reply": "2022-05-05T03:31:31.916688Z"
    },
    "papermill": {
     "duration": 0.052684,
     "end_time": "2022-05-05T03:31:31.919234",
     "exception": false,
     "start_time": "2022-05-05T03:31:31.866550",
     "status": "completed"
    },
    "tags": []
   },
   "outputs": [],
   "source": [
    "X_train2_max = max(X_train2.index)\n",
    "X_test_min = min(X_test.index)\n",
    "X_test_max = max(X_test.index)\n",
    "X_val_min = min(X_val.index)"
   ]
  },
  {
   "cell_type": "code",
   "execution_count": 14,
   "id": "060f238e",
   "metadata": {
    "execution": {
     "iopub.execute_input": "2022-05-05T03:31:32.003640Z",
     "iopub.status.busy": "2022-05-05T03:31:32.003319Z",
     "iopub.status.idle": "2022-05-05T03:31:32.011482Z",
     "shell.execute_reply": "2022-05-05T03:31:32.010834Z"
    },
    "papermill": {
     "duration": 0.052561,
     "end_time": "2022-05-05T03:31:32.013525",
     "exception": false,
     "start_time": "2022-05-05T03:31:31.960964",
     "status": "completed"
    },
    "tags": []
   },
   "outputs": [],
   "source": [
    "X_tr = X_train2.drop('Close', axis=1)\n",
    "X_te = X_test.drop('Close', axis=1)\n",
    "X_val2 = X_val.drop('Close', axis=1)\n",
    "y_tr2 = X_train2['Close']\n",
    "y_te = X_test['Close']\n",
    "y_val = X_val['Close']"
   ]
  },
  {
   "cell_type": "markdown",
   "id": "6abf45a7",
   "metadata": {
    "papermill": {
     "duration": 0.041829,
     "end_time": "2022-05-05T03:31:32.097224",
     "exception": false,
     "start_time": "2022-05-05T03:31:32.055395",
     "status": "completed"
    },
    "tags": []
   },
   "source": [
    "## **Exploring Trend**"
   ]
  },
  {
   "cell_type": "code",
   "execution_count": 15,
   "id": "1356f567",
   "metadata": {
    "execution": {
     "iopub.execute_input": "2022-05-05T03:31:32.180628Z",
     "iopub.status.busy": "2022-05-05T03:31:32.179974Z",
     "iopub.status.idle": "2022-05-05T03:31:32.241186Z",
     "shell.execute_reply": "2022-05-05T03:31:32.240584Z"
    },
    "papermill": {
     "duration": 0.105155,
     "end_time": "2022-05-05T03:31:32.243084",
     "exception": false,
     "start_time": "2022-05-05T03:31:32.137929",
     "status": "completed"
    },
    "tags": []
   },
   "outputs": [
    {
     "data": {
      "text/html": [
       "<div>\n",
       "<style scoped>\n",
       "    .dataframe tbody tr th:only-of-type {\n",
       "        vertical-align: middle;\n",
       "    }\n",
       "\n",
       "    .dataframe tbody tr th {\n",
       "        vertical-align: top;\n",
       "    }\n",
       "\n",
       "    .dataframe thead th {\n",
       "        text-align: right;\n",
       "    }\n",
       "</style>\n",
       "<table border=\"1\" class=\"dataframe\">\n",
       "  <thead>\n",
       "    <tr style=\"text-align: right;\">\n",
       "      <th></th>\n",
       "      <th>const</th>\n",
       "      <th>trend</th>\n",
       "      <th>trend_squared</th>\n",
       "      <th>trend_cubed</th>\n",
       "      <th>trend**4</th>\n",
       "    </tr>\n",
       "    <tr>\n",
       "      <th>Date</th>\n",
       "      <th></th>\n",
       "      <th></th>\n",
       "      <th></th>\n",
       "      <th></th>\n",
       "      <th></th>\n",
       "    </tr>\n",
       "  </thead>\n",
       "  <tbody>\n",
       "    <tr>\n",
       "      <th>2006-01-03</th>\n",
       "      <td>1.0</td>\n",
       "      <td>1.0</td>\n",
       "      <td>1.0</td>\n",
       "      <td>1.0</td>\n",
       "      <td>1.0</td>\n",
       "    </tr>\n",
       "    <tr>\n",
       "      <th>2006-01-04</th>\n",
       "      <td>1.0</td>\n",
       "      <td>2.0</td>\n",
       "      <td>4.0</td>\n",
       "      <td>8.0</td>\n",
       "      <td>16.0</td>\n",
       "    </tr>\n",
       "    <tr>\n",
       "      <th>2006-01-05</th>\n",
       "      <td>1.0</td>\n",
       "      <td>3.0</td>\n",
       "      <td>9.0</td>\n",
       "      <td>27.0</td>\n",
       "      <td>81.0</td>\n",
       "    </tr>\n",
       "    <tr>\n",
       "      <th>2006-01-06</th>\n",
       "      <td>1.0</td>\n",
       "      <td>4.0</td>\n",
       "      <td>16.0</td>\n",
       "      <td>64.0</td>\n",
       "      <td>256.0</td>\n",
       "    </tr>\n",
       "    <tr>\n",
       "      <th>2006-01-09</th>\n",
       "      <td>1.0</td>\n",
       "      <td>5.0</td>\n",
       "      <td>25.0</td>\n",
       "      <td>125.0</td>\n",
       "      <td>625.0</td>\n",
       "    </tr>\n",
       "  </tbody>\n",
       "</table>\n",
       "</div>"
      ],
      "text/plain": [
       "            const  trend  trend_squared  trend_cubed  trend**4\n",
       "Date                                                          \n",
       "2006-01-03    1.0    1.0            1.0          1.0       1.0\n",
       "2006-01-04    1.0    2.0            4.0          8.0      16.0\n",
       "2006-01-05    1.0    3.0            9.0         27.0      81.0\n",
       "2006-01-06    1.0    4.0           16.0         64.0     256.0\n",
       "2006-01-09    1.0    5.0           25.0        125.0     625.0"
      ]
     },
     "execution_count": 15,
     "metadata": {},
     "output_type": "execute_result"
    }
   ],
   "source": [
    "dp = DeterministicProcess(\n",
    "    index=X_tr.index,  # dates from the training data\n",
    "    constant=True,       # dummy feature for the bias (y_intercept)\n",
    "    order=4,             # the time dummy (trend)\n",
    "    drop=True,           # drop terms if necessary to avoid collinearity\n",
    ")\n",
    "# `in_sample` creates features for the dates given in the `index` argument\n",
    "X = dp.in_sample()\n",
    "\n",
    "X.head()"
   ]
  },
  {
   "cell_type": "code",
   "execution_count": 16,
   "id": "c9b6ebae",
   "metadata": {
    "execution": {
     "iopub.execute_input": "2022-05-05T03:31:32.330285Z",
     "iopub.status.busy": "2022-05-05T03:31:32.329860Z",
     "iopub.status.idle": "2022-05-05T03:31:32.344451Z",
     "shell.execute_reply": "2022-05-05T03:31:32.343499Z"
    },
    "papermill": {
     "duration": 0.061018,
     "end_time": "2022-05-05T03:31:32.347831",
     "exception": false,
     "start_time": "2022-05-05T03:31:32.286813",
     "status": "completed"
    },
    "tags": []
   },
   "outputs": [],
   "source": [
    "\n",
    "model = LinearRegression(fit_intercept=False)\n",
    "model.fit(X, y_tr2)\n",
    "\n",
    "y_pred = pd.Series(model.predict(X), index=X.index)\n"
   ]
  },
  {
   "cell_type": "code",
   "execution_count": 17,
   "id": "8349ca39",
   "metadata": {
    "execution": {
     "iopub.execute_input": "2022-05-05T03:31:32.489736Z",
     "iopub.status.busy": "2022-05-05T03:31:32.489480Z",
     "iopub.status.idle": "2022-05-05T03:31:32.771903Z",
     "shell.execute_reply": "2022-05-05T03:31:32.771012Z"
    },
    "papermill": {
     "duration": 0.343512,
     "end_time": "2022-05-05T03:31:32.774046",
     "exception": false,
     "start_time": "2022-05-05T03:31:32.430534",
     "status": "completed"
    },
    "tags": []
   },
   "outputs": [
    {
     "data": {
      "image/png": "[encoded data removed]",
      "text/plain": [
       "<Figure size 432x288 with 1 Axes>"
      ]
     },
     "metadata": {
      "needs_background": "light"
     },
     "output_type": "display_data"
    }
   ],
   "source": [
    "ax = y_tr2.plot(style=\".\", color=\"0.5\", title=\"Amazon Closing Price - 4th power Trend\")\n",
    "_ = y_pred.plot(ax=ax, linewidth=3, label=\"Trend\")"
   ]
  },
  {
   "cell_type": "code",
   "execution_count": 18,
   "id": "559039cb",
   "metadata": {
    "execution": {
     "iopub.execute_input": "2022-05-05T03:31:32.860910Z",
     "iopub.status.busy": "2022-05-05T03:31:32.860632Z",
     "iopub.status.idle": "2022-05-05T03:31:32.865394Z",
     "shell.execute_reply": "2022-05-05T03:31:32.864484Z"
    },
    "papermill": {
     "duration": 0.051839,
     "end_time": "2022-05-05T03:31:32.867954",
     "exception": false,
     "start_time": "2022-05-05T03:31:32.816115",
     "status": "completed"
    },
    "tags": []
   },
   "outputs": [
    {
     "name": "stdout",
     "output_type": "stream",
     "text": [
      "X_test_length: 679\n",
      "X_val_length: 301\n",
      "X_test_val_length: 980\n"
     ]
    }
   ],
   "source": [
    "print(f'X_test_length: {len(X_test)}')\n",
    "print(f'X_val_length: {len(X_val)}')\n",
    "print(f'X_test_val_length: {len(X_test)+len(X_val)}')"
   ]
  },
  {
   "cell_type": "code",
   "execution_count": 19,
   "id": "c0ba765a",
   "metadata": {
    "execution": {
     "iopub.execute_input": "2022-05-05T03:31:32.955146Z",
     "iopub.status.busy": "2022-05-05T03:31:32.954878Z",
     "iopub.status.idle": "2022-05-05T03:31:32.962705Z",
     "shell.execute_reply": "2022-05-05T03:31:32.961790Z"
    },
    "papermill": {
     "duration": 0.053805,
     "end_time": "2022-05-05T03:31:32.964593",
     "exception": false,
     "start_time": "2022-05-05T03:31:32.910788",
     "status": "completed"
    },
    "tags": []
   },
   "outputs": [],
   "source": [
    "X_test_val = pd.concat([X_test, X_val], axis=0)"
   ]
  },
  {
   "cell_type": "code",
   "execution_count": 20,
   "id": "c26487ff",
   "metadata": {
    "execution": {
     "iopub.execute_input": "2022-05-05T03:31:33.051163Z",
     "iopub.status.busy": "2022-05-05T03:31:33.050845Z",
     "iopub.status.idle": "2022-05-05T03:31:33.061176Z",
     "shell.execute_reply": "2022-05-05T03:31:33.060573Z"
    },
    "papermill": {
     "duration": 0.055848,
     "end_time": "2022-05-05T03:31:33.062948",
     "exception": false,
     "start_time": "2022-05-05T03:31:33.007100",
     "status": "completed"
    },
    "tags": []
   },
   "outputs": [
    {
     "data": {
      "text/plain": [
       "Date\n",
       "2014-02-11    363.487115\n",
       "2014-02-12    363.927137\n",
       "2014-02-13    364.367808\n",
       "2014-02-14    364.809129\n",
       "2014-02-18    365.251100\n",
       "dtype: float64"
      ]
     },
     "execution_count": 20,
     "metadata": {},
     "output_type": "execute_result"
    }
   ],
   "source": [
    "X_out = dp.out_of_sample(steps=679, forecast_index=X_te.index)\n",
    "\n",
    "y_fore = pd.Series(model.predict(X_out), index=X_out.index)\n",
    "\n",
    "y_fore.head()"
   ]
  },
  {
   "cell_type": "code",
   "execution_count": 21,
   "id": "335a6348",
   "metadata": {
    "execution": {
     "iopub.execute_input": "2022-05-05T03:31:33.150938Z",
     "iopub.status.busy": "2022-05-05T03:31:33.150639Z",
     "iopub.status.idle": "2022-05-05T03:31:33.161537Z",
     "shell.execute_reply": "2022-05-05T03:31:33.160863Z"
    },
    "papermill": {
     "duration": 0.056873,
     "end_time": "2022-05-05T03:31:33.163197",
     "exception": false,
     "start_time": "2022-05-05T03:31:33.106324",
     "status": "completed"
    },
    "tags": []
   },
   "outputs": [
    {
     "data": {
      "text/plain": [
       "Date\n",
       "2014-02-11    363.487115\n",
       "2014-02-12    363.927137\n",
       "2014-02-13    364.367808\n",
       "2014-02-14    364.809129\n",
       "2014-02-18    365.251100\n",
       "dtype: float64"
      ]
     },
     "execution_count": 21,
     "metadata": {},
     "output_type": "execute_result"
    }
   ],
   "source": [
    "# Prediciton for validation set; won't graph these until the end, but predictions are still needed so that the same steps for \n",
    "# training and testing data can be followed with validation set\n",
    "X_out_val = dp.out_of_sample(steps=980, forecast_index=X_test_val.index)\n",
    "\n",
    "y_fore_val = pd.Series(model.predict(X_out_val), index=X_out_val.index)\n",
    "\n",
    "y_fore_val.head()"
   ]
  },
  {
   "cell_type": "code",
   "execution_count": 22,
   "id": "6f69d748",
   "metadata": {
    "execution": {
     "iopub.execute_input": "2022-05-05T03:31:33.252025Z",
     "iopub.status.busy": "2022-05-05T03:31:33.251050Z",
     "iopub.status.idle": "2022-05-05T03:31:33.703387Z",
     "shell.execute_reply": "2022-05-05T03:31:33.702490Z"
    },
    "papermill": {
     "duration": 0.498749,
     "end_time": "2022-05-05T03:31:33.705330",
     "exception": false,
     "start_time": "2022-05-05T03:31:33.206581",
     "status": "completed"
    },
    "tags": []
   },
   "outputs": [
    {
     "data": {
      "image/png": "[encoded data removed]",
      "text/plain": [
       "<Figure size 432x288 with 1 Axes>"
      ]
     },
     "metadata": {
      "needs_background": "light"
     },
     "output_type": "display_data"
    }
   ],
   "source": [
    "ax = y_tr2.plot(style=\".\", color=\"0.5\", title=\"Amazon Daily Closing Price\")\n",
    "ax = y_te.plot(style=\".\", color=\"0.5\",)\n",
    "#ax = y_val.plot(style=\".\", color=\"0.5\")\n",
    "ax = y_pred.plot(ax=ax, linewidth=3, label=\"Train\")\n",
    "ax = y_fore.plot(ax=ax, linewidth=3, label=\"Test Forecast\", color=\"C3\")\n",
    "#ax = y_fore_val.plot(ax=ax, linewidth=3, label=\"Test + Val Forecast\", color=\"green\")\n",
    "_ = ax.legend()"
   ]
  },
  {
   "cell_type": "code",
   "execution_count": 23,
   "id": "4c95b572",
   "metadata": {
    "execution": {
     "iopub.execute_input": "2022-05-05T03:31:33.795351Z",
     "iopub.status.busy": "2022-05-05T03:31:33.795035Z",
     "iopub.status.idle": "2022-05-05T03:31:33.799833Z",
     "shell.execute_reply": "2022-05-05T03:31:33.798910Z"
    },
    "papermill": {
     "duration": 0.052361,
     "end_time": "2022-05-05T03:31:33.801921",
     "exception": false,
     "start_time": "2022-05-05T03:31:33.749560",
     "status": "completed"
    },
    "tags": []
   },
   "outputs": [],
   "source": [
    "# Detrending y_tr2 and y_te\n",
    "y_tr_detrend = y_tr2 - y_pred\n",
    "y_te_detrend = y_te - y_fore"
   ]
  },
  {
   "cell_type": "code",
   "execution_count": 24,
   "id": "62375f29",
   "metadata": {
    "execution": {
     "iopub.execute_input": "2022-05-05T03:31:33.892406Z",
     "iopub.status.busy": "2022-05-05T03:31:33.892091Z",
     "iopub.status.idle": "2022-05-05T03:31:34.154452Z",
     "shell.execute_reply": "2022-05-05T03:31:34.153838Z"
    },
    "papermill": {
     "duration": 0.310191,
     "end_time": "2022-05-05T03:31:34.156154",
     "exception": false,
     "start_time": "2022-05-05T03:31:33.845963",
     "status": "completed"
    },
    "tags": []
   },
   "outputs": [
    {
     "data": {
      "image/png": "[encoded data removed]",
      "text/plain": [
       "<Figure size 432x288 with 1 Axes>"
      ]
     },
     "metadata": {
      "needs_background": "light"
     },
     "output_type": "display_data"
    }
   ],
   "source": [
    "ax = y_tr_detrend.plot(style=\".\", color=\"0.5\", title=\"Amazon Daily Closing Price\")"
   ]
  },
  {
   "cell_type": "markdown",
   "id": "eec3b49a",
   "metadata": {
    "papermill": {
     "duration": 0.046752,
     "end_time": "2022-05-05T03:31:34.248094",
     "exception": false,
     "start_time": "2022-05-05T03:31:34.201342",
     "status": "completed"
    },
    "tags": []
   },
   "source": [
    "## **Exploring Seasonality**"
   ]
  },
  {
   "cell_type": "code",
   "execution_count": 25,
   "id": "38ee903f",
   "metadata": {
    "execution": {
     "iopub.execute_input": "2022-05-05T03:31:34.340138Z",
     "iopub.status.busy": "2022-05-05T03:31:34.339197Z",
     "iopub.status.idle": "2022-05-05T03:31:34.345045Z",
     "shell.execute_reply": "2022-05-05T03:31:34.344398Z"
    },
    "papermill": {
     "duration": 0.053915,
     "end_time": "2022-05-05T03:31:34.346877",
     "exception": false,
     "start_time": "2022-05-05T03:31:34.292962",
     "status": "completed"
    },
    "tags": []
   },
   "outputs": [],
   "source": [
    "detr_df = pd.concat([pd.DataFrame(y_tr_detrend, columns=['Detrended_Close']), pd.DataFrame(y_te_detrend, columns=['Detrended_Close'])], axis=0)"
   ]
  },
  {
   "cell_type": "code",
   "execution_count": 26,
   "id": "8aa5a90b",
   "metadata": {
    "execution": {
     "iopub.execute_input": "2022-05-05T03:31:34.440625Z",
     "iopub.status.busy": "2022-05-05T03:31:34.439770Z",
     "iopub.status.idle": "2022-05-05T03:31:34.461579Z",
     "shell.execute_reply": "2022-05-05T03:31:34.460742Z"
    },
    "papermill": {
     "duration": 0.070315,
     "end_time": "2022-05-05T03:31:34.463364",
     "exception": false,
     "start_time": "2022-05-05T03:31:34.393049",
     "status": "completed"
    },
    "tags": []
   },
   "outputs": [
    {
     "data": {
      "text/html": [
       "<div>\n",
       "<style scoped>\n",
       "    .dataframe tbody tr th:only-of-type {\n",
       "        vertical-align: middle;\n",
       "    }\n",
       "\n",
       "    .dataframe tbody tr th {\n",
       "        vertical-align: top;\n",
       "    }\n",
       "\n",
       "    .dataframe thead th {\n",
       "        text-align: right;\n",
       "    }\n",
       "</style>\n",
       "<table border=\"1\" class=\"dataframe\">\n",
       "  <thead>\n",
       "    <tr style=\"text-align: right;\">\n",
       "      <th></th>\n",
       "      <th>Open</th>\n",
       "      <th>High</th>\n",
       "      <th>Low</th>\n",
       "      <th>Close</th>\n",
       "      <th>Volume</th>\n",
       "      <th>Name</th>\n",
       "      <th>month</th>\n",
       "      <th>day</th>\n",
       "      <th>day_name</th>\n",
       "      <th>year</th>\n",
       "      <th>Detrended_Close</th>\n",
       "    </tr>\n",
       "    <tr>\n",
       "      <th>Date</th>\n",
       "      <th></th>\n",
       "      <th></th>\n",
       "      <th></th>\n",
       "      <th></th>\n",
       "      <th></th>\n",
       "      <th></th>\n",
       "      <th></th>\n",
       "      <th></th>\n",
       "      <th></th>\n",
       "      <th></th>\n",
       "      <th></th>\n",
       "    </tr>\n",
       "  </thead>\n",
       "  <tbody>\n",
       "    <tr>\n",
       "      <th>2006-01-03</th>\n",
       "      <td>47.47</td>\n",
       "      <td>47.85</td>\n",
       "      <td>46.25</td>\n",
       "      <td>47.58</td>\n",
       "      <td>7582127</td>\n",
       "      <td>AMZN</td>\n",
       "      <td>1</td>\n",
       "      <td>3</td>\n",
       "      <td>Tuesday</td>\n",
       "      <td>2006</td>\n",
       "      <td>7.860418</td>\n",
       "    </tr>\n",
       "    <tr>\n",
       "      <th>2006-01-04</th>\n",
       "      <td>47.48</td>\n",
       "      <td>47.73</td>\n",
       "      <td>46.69</td>\n",
       "      <td>47.25</td>\n",
       "      <td>7440914</td>\n",
       "      <td>AMZN</td>\n",
       "      <td>1</td>\n",
       "      <td>4</td>\n",
       "      <td>Wednesday</td>\n",
       "      <td>2006</td>\n",
       "      <td>7.547608</td>\n",
       "    </tr>\n",
       "    <tr>\n",
       "      <th>2006-01-05</th>\n",
       "      <td>47.16</td>\n",
       "      <td>48.20</td>\n",
       "      <td>47.11</td>\n",
       "      <td>47.65</td>\n",
       "      <td>5417258</td>\n",
       "      <td>AMZN</td>\n",
       "      <td>1</td>\n",
       "      <td>5</td>\n",
       "      <td>Thursday</td>\n",
       "      <td>2006</td>\n",
       "      <td>7.964460</td>\n",
       "    </tr>\n",
       "    <tr>\n",
       "      <th>2006-01-06</th>\n",
       "      <td>47.97</td>\n",
       "      <td>48.58</td>\n",
       "      <td>47.32</td>\n",
       "      <td>47.87</td>\n",
       "      <td>6154285</td>\n",
       "      <td>AMZN</td>\n",
       "      <td>1</td>\n",
       "      <td>6</td>\n",
       "      <td>Friday</td>\n",
       "      <td>2006</td>\n",
       "      <td>8.200974</td>\n",
       "    </tr>\n",
       "    <tr>\n",
       "      <th>2006-01-09</th>\n",
       "      <td>46.55</td>\n",
       "      <td>47.10</td>\n",
       "      <td>46.40</td>\n",
       "      <td>47.08</td>\n",
       "      <td>8945056</td>\n",
       "      <td>AMZN</td>\n",
       "      <td>1</td>\n",
       "      <td>9</td>\n",
       "      <td>Monday</td>\n",
       "      <td>2006</td>\n",
       "      <td>7.427150</td>\n",
       "    </tr>\n",
       "  </tbody>\n",
       "</table>\n",
       "</div>"
      ],
      "text/plain": [
       "             Open   High    Low  Close   Volume  Name  month  day   day_name  \\\n",
       "Date                                                                           \n",
       "2006-01-03  47.47  47.85  46.25  47.58  7582127  AMZN      1    3    Tuesday   \n",
       "2006-01-04  47.48  47.73  46.69  47.25  7440914  AMZN      1    4  Wednesday   \n",
       "2006-01-05  47.16  48.20  47.11  47.65  5417258  AMZN      1    5   Thursday   \n",
       "2006-01-06  47.97  48.58  47.32  47.87  6154285  AMZN      1    6     Friday   \n",
       "2006-01-09  46.55  47.10  46.40  47.08  8945056  AMZN      1    9     Monday   \n",
       "\n",
       "            year  Detrended_Close  \n",
       "Date                               \n",
       "2006-01-03  2006         7.860418  \n",
       "2006-01-04  2006         7.547608  \n",
       "2006-01-05  2006         7.964460  \n",
       "2006-01-06  2006         8.200974  \n",
       "2006-01-09  2006         7.427150  "
      ]
     },
     "execution_count": 26,
     "metadata": {},
     "output_type": "execute_result"
    }
   ],
   "source": [
    "amzn_tr_te = amzn[amzn.index <= max(detr_df.index)]\n",
    "amzn_tr_te = pd.concat([amzn_tr_te, detr_df], axis=1)\n",
    "amzn_tr_te.head()"
   ]
  },
  {
   "cell_type": "code",
   "execution_count": 27,
   "id": "d84f78af",
   "metadata": {
    "execution": {
     "iopub.execute_input": "2022-05-05T03:31:34.556541Z",
     "iopub.status.busy": "2022-05-05T03:31:34.556021Z",
     "iopub.status.idle": "2022-05-05T03:31:40.962721Z",
     "shell.execute_reply": "2022-05-05T03:31:40.961881Z"
    },
    "papermill": {
     "duration": 6.456214,
     "end_time": "2022-05-05T03:31:40.964811",
     "exception": false,
     "start_time": "2022-05-05T03:31:34.508597",
     "status": "completed"
    },
    "tags": []
   },
   "outputs": [
    {
     "name": "stderr",
     "output_type": "stream",
     "text": [
      "/opt/conda/lib/python3.7/site-packages/ipykernel_launcher.py:2: FutureWarning: weekofyear and week have been deprecated, please use DatetimeIndex.isocalendar().week instead, which returns a Series.  To exactly reproduce the behavior of week and weekofyear and return an Index, you may call pd.Int64Index(idx.isocalendar().week)\n",
      "  \n"
     ]
    },
    {
     "data": {
      "image/png": "[encoded data removed]",
      "text/plain": [
       "<Figure size 432x288 with 1 Axes>"
      ]
     },
     "metadata": {
      "needs_background": "light"
     },
     "output_type": "display_data"
    }
   ],
   "source": [
    "week = {'Sunday': 0, 'Monday': 1, 'Tuesday':2, 'Wednesday':3, 'Thursday':4, 'Friday':5, 'Saturday':6}\n",
    "amzn_tr_te[\"week_of_year\"] = amzn_tr_te.index.week\n",
    "amzn_tr_te[\"day_of_week\"] = amzn_tr_te['day_name'].map(week)\n",
    "seasonal_plot(amzn_tr_te, y='Detrended_Close', period='week_of_year', freq='day_of_week');"
   ]
  },
  {
   "cell_type": "code",
   "execution_count": 28,
   "id": "e78cfbcb",
   "metadata": {
    "execution": {
     "iopub.execute_input": "2022-05-05T03:31:41.064474Z",
     "iopub.status.busy": "2022-05-05T03:31:41.063901Z",
     "iopub.status.idle": "2022-05-05T03:31:41.070243Z",
     "shell.execute_reply": "2022-05-05T03:31:41.069697Z"
    },
    "papermill": {
     "duration": 0.058632,
     "end_time": "2022-05-05T03:31:41.071891",
     "exception": false,
     "start_time": "2022-05-05T03:31:41.013259",
     "status": "completed"
    },
    "tags": []
   },
   "outputs": [
    {
     "data": {
      "text/plain": [
       "DatetimeIndex(['2006-01-03', '2006-01-04', '2006-01-05', '2006-01-06',\n",
       "               '2006-01-09', '2006-01-10', '2006-01-11', '2006-01-12',\n",
       "               '2006-01-13', '2006-01-17',\n",
       "               ...\n",
       "               '2016-10-06', '2016-10-07', '2016-10-10', '2016-10-11',\n",
       "               '2016-10-12', '2016-10-13', '2016-10-14', '2016-10-17',\n",
       "               '2016-10-18', '2016-10-19'],\n",
       "              dtype='datetime64[ns]', name='Date', length=2718, freq=None)"
      ]
     },
     "execution_count": 28,
     "metadata": {},
     "output_type": "execute_result"
    }
   ],
   "source": [
    "detr_df['Detrended_Close'].index"
   ]
  },
  {
   "cell_type": "code",
   "execution_count": 29,
   "id": "9e7b4a51",
   "metadata": {
    "execution": {
     "iopub.execute_input": "2022-05-05T03:31:41.194246Z",
     "iopub.status.busy": "2022-05-05T03:31:41.193746Z",
     "iopub.status.idle": "2022-05-05T03:31:41.649263Z",
     "shell.execute_reply": "2022-05-05T03:31:41.648440Z"
    },
    "papermill": {
     "duration": 0.524158,
     "end_time": "2022-05-05T03:31:41.651260",
     "exception": false,
     "start_time": "2022-05-05T03:31:41.127102",
     "status": "completed"
    },
    "tags": []
   },
   "outputs": [
    {
     "name": "stderr",
     "output_type": "stream",
     "text": [
      "/opt/conda/lib/python3.7/site-packages/ipykernel_launcher.py:1: FutureWarning: Units 'M', 'Y' and 'y' do not represent unambiguous timedelta values and will be removed in a future version\n",
      "  \"\"\"Entry point for launching an IPython kernel.\n"
     ]
    },
    {
     "data": {
      "image/png": "[encoded data removed]",
      "text/plain": [
       "<Figure size 432x288 with 1 Axes>"
      ]
     },
     "metadata": {
      "needs_background": "light"
     },
     "output_type": "display_data"
    }
   ],
   "source": [
    "plot_periodogram(detr_df['Detrended_Close']);"
   ]
  },
  {
   "cell_type": "markdown",
   "id": "82b41db1",
   "metadata": {
    "papermill": {
     "duration": 0.04966,
     "end_time": "2022-05-05T03:31:41.750231",
     "exception": false,
     "start_time": "2022-05-05T03:31:41.700571",
     "status": "completed"
    },
    "tags": []
   },
   "source": [
    "The the periodogram seems to drop off after *annual*, (one time a year), or in other words, the frequency strengths of the different coefficients for sin and cosine seem to drop off after annual."
   ]
  },
  {
   "cell_type": "code",
   "execution_count": 30,
   "id": "7d8d832b",
   "metadata": {
    "execution": {
     "iopub.execute_input": "2022-05-05T03:31:41.851766Z",
     "iopub.status.busy": "2022-05-05T03:31:41.851186Z",
     "iopub.status.idle": "2022-05-05T03:31:41.859376Z",
     "shell.execute_reply": "2022-05-05T03:31:41.858717Z"
    },
    "papermill": {
     "duration": 0.06107,
     "end_time": "2022-05-05T03:31:41.861114",
     "exception": false,
     "start_time": "2022-05-05T03:31:41.800044",
     "status": "completed"
    },
    "tags": []
   },
   "outputs": [
    {
     "data": {
      "text/plain": [
       "Timestamp('2016-10-19 00:00:00')"
      ]
     },
     "execution_count": 30,
     "metadata": {},
     "output_type": "execute_result"
    }
   ],
   "source": [
    "max(detr_df.index)"
   ]
  },
  {
   "cell_type": "code",
   "execution_count": 31,
   "id": "842416a3",
   "metadata": {
    "execution": {
     "iopub.execute_input": "2022-05-05T03:31:41.964294Z",
     "iopub.status.busy": "2022-05-05T03:31:41.963750Z",
     "iopub.status.idle": "2022-05-05T03:31:41.970035Z",
     "shell.execute_reply": "2022-05-05T03:31:41.969450Z"
    },
    "papermill": {
     "duration": 0.060209,
     "end_time": "2022-05-05T03:31:41.971804",
     "exception": false,
     "start_time": "2022-05-05T03:31:41.911595",
     "status": "completed"
    },
    "tags": []
   },
   "outputs": [
    {
     "data": {
      "text/plain": [
       "DatetimeIndex(['2006-01-03', '2006-01-04', '2006-01-05', '2006-01-06',\n",
       "               '2006-01-09', '2006-01-10', '2006-01-11', '2006-01-12',\n",
       "               '2006-01-13', '2006-01-17',\n",
       "               ...\n",
       "               '2016-10-06', '2016-10-07', '2016-10-10', '2016-10-11',\n",
       "               '2016-10-12', '2016-10-13', '2016-10-14', '2016-10-17',\n",
       "               '2016-10-18', '2016-10-19'],\n",
       "              dtype='datetime64[ns]', name='Date', length=2718, freq=None)"
      ]
     },
     "execution_count": 31,
     "metadata": {},
     "output_type": "execute_result"
    }
   ],
   "source": [
    "detr_df.index"
   ]
  },
  {
   "cell_type": "code",
   "execution_count": 32,
   "id": "32f7a6fb",
   "metadata": {
    "execution": {
     "iopub.execute_input": "2022-05-05T03:31:42.074189Z",
     "iopub.status.busy": "2022-05-05T03:31:42.073637Z",
     "iopub.status.idle": "2022-05-05T03:31:42.091235Z",
     "shell.execute_reply": "2022-05-05T03:31:42.090366Z"
    },
    "papermill": {
     "duration": 0.071722,
     "end_time": "2022-05-05T03:31:42.093257",
     "exception": false,
     "start_time": "2022-05-05T03:31:42.021535",
     "status": "completed"
    },
    "tags": []
   },
   "outputs": [
    {
     "data": {
      "text/html": [
       "<div>\n",
       "<style scoped>\n",
       "    .dataframe tbody tr th:only-of-type {\n",
       "        vertical-align: middle;\n",
       "    }\n",
       "\n",
       "    .dataframe tbody tr th {\n",
       "        vertical-align: top;\n",
       "    }\n",
       "\n",
       "    .dataframe thead th {\n",
       "        text-align: right;\n",
       "    }\n",
       "</style>\n",
       "<table border=\"1\" class=\"dataframe\">\n",
       "  <thead>\n",
       "    <tr style=\"text-align: right;\">\n",
       "      <th></th>\n",
       "      <th>Date</th>\n",
       "      <th>year</th>\n",
       "      <th>Detrended_Close</th>\n",
       "    </tr>\n",
       "  </thead>\n",
       "  <tbody>\n",
       "    <tr>\n",
       "      <th>0</th>\n",
       "      <td>2006-01-03</td>\n",
       "      <td>2006</td>\n",
       "      <td>7.860418</td>\n",
       "    </tr>\n",
       "    <tr>\n",
       "      <th>1</th>\n",
       "      <td>2006-01-04</td>\n",
       "      <td>2006</td>\n",
       "      <td>7.547608</td>\n",
       "    </tr>\n",
       "    <tr>\n",
       "      <th>2</th>\n",
       "      <td>2006-01-05</td>\n",
       "      <td>2006</td>\n",
       "      <td>7.964460</td>\n",
       "    </tr>\n",
       "    <tr>\n",
       "      <th>3</th>\n",
       "      <td>2006-01-06</td>\n",
       "      <td>2006</td>\n",
       "      <td>8.200974</td>\n",
       "    </tr>\n",
       "    <tr>\n",
       "      <th>4</th>\n",
       "      <td>2006-01-09</td>\n",
       "      <td>2006</td>\n",
       "      <td>7.427150</td>\n",
       "    </tr>\n",
       "    <tr>\n",
       "      <th>...</th>\n",
       "      <td>...</td>\n",
       "      <td>...</td>\n",
       "      <td>...</td>\n",
       "    </tr>\n",
       "    <tr>\n",
       "      <th>2713</th>\n",
       "      <td>2016-10-13</td>\n",
       "      <td>2016</td>\n",
       "      <td>-32.607014</td>\n",
       "    </tr>\n",
       "    <tr>\n",
       "      <th>2714</th>\n",
       "      <td>2016-10-14</td>\n",
       "      <td>2016</td>\n",
       "      <td>-40.058339</td>\n",
       "    </tr>\n",
       "    <tr>\n",
       "      <th>2715</th>\n",
       "      <td>2016-10-17</td>\n",
       "      <td>2016</td>\n",
       "      <td>-51.201127</td>\n",
       "    </tr>\n",
       "    <tr>\n",
       "      <th>2716</th>\n",
       "      <td>2016-10-18</td>\n",
       "      <td>2016</td>\n",
       "      <td>-47.635378</td>\n",
       "    </tr>\n",
       "    <tr>\n",
       "      <th>2717</th>\n",
       "      <td>2016-10-19</td>\n",
       "      <td>2016</td>\n",
       "      <td>-48.731095</td>\n",
       "    </tr>\n",
       "  </tbody>\n",
       "</table>\n",
       "<p>2718 rows × 3 columns</p>\n",
       "</div>"
      ],
      "text/plain": [
       "           Date  year  Detrended_Close\n",
       "0    2006-01-03  2006         7.860418\n",
       "1    2006-01-04  2006         7.547608\n",
       "2    2006-01-05  2006         7.964460\n",
       "3    2006-01-06  2006         8.200974\n",
       "4    2006-01-09  2006         7.427150\n",
       "...         ...   ...              ...\n",
       "2713 2016-10-13  2016       -32.607014\n",
       "2714 2016-10-14  2016       -40.058339\n",
       "2715 2016-10-17  2016       -51.201127\n",
       "2716 2016-10-18  2016       -47.635378\n",
       "2717 2016-10-19  2016       -48.731095\n",
       "\n",
       "[2718 rows x 3 columns]"
      ]
     },
     "execution_count": 32,
     "metadata": {},
     "output_type": "execute_result"
    }
   ],
   "source": [
    "year_df = amzn_tr_te[['year', 'Detrended_Close']]\n",
    "year_df.groupby('year').mean()\n",
    "year_df.reset_index(inplace=True)\n",
    "year_df"
   ]
  },
  {
   "cell_type": "code",
   "execution_count": 33,
   "id": "a0f62b73",
   "metadata": {
    "execution": {
     "iopub.execute_input": "2022-05-05T03:31:42.196437Z",
     "iopub.status.busy": "2022-05-05T03:31:42.195834Z",
     "iopub.status.idle": "2022-05-05T03:31:42.643087Z",
     "shell.execute_reply": "2022-05-05T03:31:42.642176Z"
    },
    "papermill": {
     "duration": 0.501384,
     "end_time": "2022-05-05T03:31:42.645279",
     "exception": false,
     "start_time": "2022-05-05T03:31:42.143895",
     "status": "completed"
    },
    "tags": []
   },
   "outputs": [
    {
     "data": {
      "image/png": "[encoded data removed]",
      "text/plain": [
       "<Figure size 432x288 with 1 Axes>"
      ]
     },
     "metadata": {
      "needs_background": "light"
     },
     "output_type": "display_data"
    }
   ],
   "source": [
    "sns.lineplot(data=year_df, x='year', y='Detrended_Close');"
   ]
  },
  {
   "cell_type": "markdown",
   "id": "a0263192",
   "metadata": {
    "papermill": {
     "duration": 0.050625,
     "end_time": "2022-05-05T03:31:42.746911",
     "exception": false,
     "start_time": "2022-05-05T03:31:42.696286",
     "status": "completed"
    },
    "tags": []
   },
   "source": [
    "It looks like there is some seasonality that occurs every two years, with the peak on the odd numbered years."
   ]
  },
  {
   "cell_type": "code",
   "execution_count": 34,
   "id": "15c7bb50",
   "metadata": {
    "execution": {
     "iopub.execute_input": "2022-05-05T03:31:42.853373Z",
     "iopub.status.busy": "2022-05-05T03:31:42.852616Z",
     "iopub.status.idle": "2022-05-05T03:31:43.095742Z",
     "shell.execute_reply": "2022-05-05T03:31:43.095080Z"
    },
    "papermill": {
     "duration": 0.300062,
     "end_time": "2022-05-05T03:31:43.097701",
     "exception": false,
     "start_time": "2022-05-05T03:31:42.797639",
     "status": "completed"
    },
    "tags": []
   },
   "outputs": [
    {
     "data": {
      "image/png": "[encoded data removed]",
      "text/plain": [
       "<Figure size 432x288 with 1 Axes>"
      ]
     },
     "metadata": {
      "needs_background": "light"
     },
     "output_type": "display_data"
    }
   ],
   "source": [
    "ax = amzn_tr_te['Detrended_Close'].plot(style=\".\", color=\"0.5\", title=\"Amazon Daily Closing Price\")"
   ]
  },
  {
   "cell_type": "code",
   "execution_count": 35,
   "id": "296bbcdb",
   "metadata": {
    "execution": {
     "iopub.execute_input": "2022-05-05T03:31:43.208622Z",
     "iopub.status.busy": "2022-05-05T03:31:43.208070Z",
     "iopub.status.idle": "2022-05-05T03:31:43.214175Z",
     "shell.execute_reply": "2022-05-05T03:31:43.213202Z"
    },
    "papermill": {
     "duration": 0.064079,
     "end_time": "2022-05-05T03:31:43.216398",
     "exception": false,
     "start_time": "2022-05-05T03:31:43.152319",
     "status": "completed"
    },
    "tags": []
   },
   "outputs": [
    {
     "name": "stdout",
     "output_type": "stream",
     "text": [
      "X_train2_max, 2014-02-10 00:00:00\n",
      "X_test_min, 2014-02-11 00:00:00\n",
      "X_test_max, 2016-10-19 00:00:00\n",
      "X_val_min, 2016-10-20 00:00:00\n"
     ]
    }
   ],
   "source": [
    "print(f'X_train2_max, {X_train2_max}')\n",
    "print(f'X_test_min, {X_test_min}')\n",
    "print(f'X_test_max, {X_test_max}')\n",
    "print(f'X_val_min, {X_val_min}')"
   ]
  },
  {
   "cell_type": "code",
   "execution_count": 36,
   "id": "3f04b1f9",
   "metadata": {
    "execution": {
     "iopub.execute_input": "2022-05-05T03:31:43.324206Z",
     "iopub.status.busy": "2022-05-05T03:31:43.323945Z",
     "iopub.status.idle": "2022-05-05T03:31:43.329607Z",
     "shell.execute_reply": "2022-05-05T03:31:43.328863Z"
    },
    "papermill": {
     "duration": 0.062371,
     "end_time": "2022-05-05T03:31:43.331493",
     "exception": false,
     "start_time": "2022-05-05T03:31:43.269122",
     "status": "completed"
    },
    "tags": []
   },
   "outputs": [],
   "source": [
    "X_train = amzn_tr_te[amzn_tr_te.index <= X_train2_max]\n",
    "X_test = amzn_tr_te[amzn_tr_te.index > X_train2_max]"
   ]
  },
  {
   "cell_type": "code",
   "execution_count": 37,
   "id": "0b614170",
   "metadata": {
    "execution": {
     "iopub.execute_input": "2022-05-05T03:31:43.440552Z",
     "iopub.status.busy": "2022-05-05T03:31:43.439972Z",
     "iopub.status.idle": "2022-05-05T03:31:43.462743Z",
     "shell.execute_reply": "2022-05-05T03:31:43.462008Z"
    },
    "papermill": {
     "duration": 0.079377,
     "end_time": "2022-05-05T03:31:43.464649",
     "exception": false,
     "start_time": "2022-05-05T03:31:43.385272",
     "status": "completed"
    },
    "tags": []
   },
   "outputs": [
    {
     "data": {
      "text/html": [
       "<div>\n",
       "<style scoped>\n",
       "    .dataframe tbody tr th:only-of-type {\n",
       "        vertical-align: middle;\n",
       "    }\n",
       "\n",
       "    .dataframe tbody tr th {\n",
       "        vertical-align: top;\n",
       "    }\n",
       "\n",
       "    .dataframe thead th {\n",
       "        text-align: right;\n",
       "    }\n",
       "</style>\n",
       "<table border=\"1\" class=\"dataframe\">\n",
       "  <thead>\n",
       "    <tr style=\"text-align: right;\">\n",
       "      <th></th>\n",
       "      <th>Open</th>\n",
       "      <th>High</th>\n",
       "      <th>Low</th>\n",
       "      <th>Close</th>\n",
       "      <th>Volume</th>\n",
       "      <th>Name</th>\n",
       "      <th>month</th>\n",
       "      <th>day</th>\n",
       "      <th>day_name</th>\n",
       "      <th>year</th>\n",
       "      <th>Detrended_Close</th>\n",
       "      <th>week_of_year</th>\n",
       "      <th>day_of_week</th>\n",
       "    </tr>\n",
       "    <tr>\n",
       "      <th>Date</th>\n",
       "      <th></th>\n",
       "      <th></th>\n",
       "      <th></th>\n",
       "      <th></th>\n",
       "      <th></th>\n",
       "      <th></th>\n",
       "      <th></th>\n",
       "      <th></th>\n",
       "      <th></th>\n",
       "      <th></th>\n",
       "      <th></th>\n",
       "      <th></th>\n",
       "      <th></th>\n",
       "    </tr>\n",
       "  </thead>\n",
       "  <tbody>\n",
       "    <tr>\n",
       "      <th>2006-01-03</th>\n",
       "      <td>47.47</td>\n",
       "      <td>47.85</td>\n",
       "      <td>46.25</td>\n",
       "      <td>47.58</td>\n",
       "      <td>7582127</td>\n",
       "      <td>AMZN</td>\n",
       "      <td>1</td>\n",
       "      <td>3</td>\n",
       "      <td>Tuesday</td>\n",
       "      <td>2006</td>\n",
       "      <td>7.860418</td>\n",
       "      <td>1</td>\n",
       "      <td>2</td>\n",
       "    </tr>\n",
       "    <tr>\n",
       "      <th>2006-01-04</th>\n",
       "      <td>47.48</td>\n",
       "      <td>47.73</td>\n",
       "      <td>46.69</td>\n",
       "      <td>47.25</td>\n",
       "      <td>7440914</td>\n",
       "      <td>AMZN</td>\n",
       "      <td>1</td>\n",
       "      <td>4</td>\n",
       "      <td>Wednesday</td>\n",
       "      <td>2006</td>\n",
       "      <td>7.547608</td>\n",
       "      <td>1</td>\n",
       "      <td>3</td>\n",
       "    </tr>\n",
       "    <tr>\n",
       "      <th>2006-01-05</th>\n",
       "      <td>47.16</td>\n",
       "      <td>48.20</td>\n",
       "      <td>47.11</td>\n",
       "      <td>47.65</td>\n",
       "      <td>5417258</td>\n",
       "      <td>AMZN</td>\n",
       "      <td>1</td>\n",
       "      <td>5</td>\n",
       "      <td>Thursday</td>\n",
       "      <td>2006</td>\n",
       "      <td>7.964460</td>\n",
       "      <td>1</td>\n",
       "      <td>4</td>\n",
       "    </tr>\n",
       "    <tr>\n",
       "      <th>2006-01-06</th>\n",
       "      <td>47.97</td>\n",
       "      <td>48.58</td>\n",
       "      <td>47.32</td>\n",
       "      <td>47.87</td>\n",
       "      <td>6154285</td>\n",
       "      <td>AMZN</td>\n",
       "      <td>1</td>\n",
       "      <td>6</td>\n",
       "      <td>Friday</td>\n",
       "      <td>2006</td>\n",
       "      <td>8.200974</td>\n",
       "      <td>1</td>\n",
       "      <td>5</td>\n",
       "    </tr>\n",
       "    <tr>\n",
       "      <th>2006-01-09</th>\n",
       "      <td>46.55</td>\n",
       "      <td>47.10</td>\n",
       "      <td>46.40</td>\n",
       "      <td>47.08</td>\n",
       "      <td>8945056</td>\n",
       "      <td>AMZN</td>\n",
       "      <td>1</td>\n",
       "      <td>9</td>\n",
       "      <td>Monday</td>\n",
       "      <td>2006</td>\n",
       "      <td>7.427150</td>\n",
       "      <td>2</td>\n",
       "      <td>1</td>\n",
       "    </tr>\n",
       "    <tr>\n",
       "      <th>...</th>\n",
       "      <td>...</td>\n",
       "      <td>...</td>\n",
       "      <td>...</td>\n",
       "      <td>...</td>\n",
       "      <td>...</td>\n",
       "      <td>...</td>\n",
       "      <td>...</td>\n",
       "      <td>...</td>\n",
       "      <td>...</td>\n",
       "      <td>...</td>\n",
       "      <td>...</td>\n",
       "      <td>...</td>\n",
       "      <td>...</td>\n",
       "    </tr>\n",
       "    <tr>\n",
       "      <th>2014-02-04</th>\n",
       "      <td>349.59</td>\n",
       "      <td>354.00</td>\n",
       "      <td>344.02</td>\n",
       "      <td>347.95</td>\n",
       "      <td>4821177</td>\n",
       "      <td>AMZN</td>\n",
       "      <td>2</td>\n",
       "      <td>4</td>\n",
       "      <td>Tuesday</td>\n",
       "      <td>2014</td>\n",
       "      <td>-13.346704</td>\n",
       "      <td>6</td>\n",
       "      <td>2</td>\n",
       "    </tr>\n",
       "    <tr>\n",
       "      <th>2014-02-05</th>\n",
       "      <td>346.00</td>\n",
       "      <td>349.37</td>\n",
       "      <td>337.73</td>\n",
       "      <td>346.45</td>\n",
       "      <td>4439010</td>\n",
       "      <td>AMZN</td>\n",
       "      <td>2</td>\n",
       "      <td>5</td>\n",
       "      <td>Wednesday</td>\n",
       "      <td>2014</td>\n",
       "      <td>-15.283496</td>\n",
       "      <td>6</td>\n",
       "      <td>3</td>\n",
       "    </tr>\n",
       "    <tr>\n",
       "      <th>2014-02-06</th>\n",
       "      <td>347.40</td>\n",
       "      <td>354.82</td>\n",
       "      <td>347.40</td>\n",
       "      <td>354.59</td>\n",
       "      <td>3340542</td>\n",
       "      <td>AMZN</td>\n",
       "      <td>2</td>\n",
       "      <td>6</td>\n",
       "      <td>Thursday</td>\n",
       "      <td>2014</td>\n",
       "      <td>-7.580932</td>\n",
       "      <td>6</td>\n",
       "      <td>4</td>\n",
       "    </tr>\n",
       "    <tr>\n",
       "      <th>2014-02-07</th>\n",
       "      <td>358.98</td>\n",
       "      <td>361.80</td>\n",
       "      <td>352.49</td>\n",
       "      <td>361.08</td>\n",
       "      <td>4347189</td>\n",
       "      <td>AMZN</td>\n",
       "      <td>2</td>\n",
       "      <td>7</td>\n",
       "      <td>Friday</td>\n",
       "      <td>2014</td>\n",
       "      <td>-1.529013</td>\n",
       "      <td>6</td>\n",
       "      <td>5</td>\n",
       "    </tr>\n",
       "    <tr>\n",
       "      <th>2014-02-10</th>\n",
       "      <td>361.61</td>\n",
       "      <td>365.00</td>\n",
       "      <td>359.35</td>\n",
       "      <td>360.87</td>\n",
       "      <td>3451093</td>\n",
       "      <td>AMZN</td>\n",
       "      <td>2</td>\n",
       "      <td>10</td>\n",
       "      <td>Monday</td>\n",
       "      <td>2014</td>\n",
       "      <td>-2.177741</td>\n",
       "      <td>7</td>\n",
       "      <td>1</td>\n",
       "    </tr>\n",
       "  </tbody>\n",
       "</table>\n",
       "<p>2039 rows × 13 columns</p>\n",
       "</div>"
      ],
      "text/plain": [
       "              Open    High     Low   Close   Volume  Name  month  day  \\\n",
       "Date                                                                    \n",
       "2006-01-03   47.47   47.85   46.25   47.58  7582127  AMZN      1    3   \n",
       "2006-01-04   47.48   47.73   46.69   47.25  7440914  AMZN      1    4   \n",
       "2006-01-05   47.16   48.20   47.11   47.65  5417258  AMZN      1    5   \n",
       "2006-01-06   47.97   48.58   47.32   47.87  6154285  AMZN      1    6   \n",
       "2006-01-09   46.55   47.10   46.40   47.08  8945056  AMZN      1    9   \n",
       "...            ...     ...     ...     ...      ...   ...    ...  ...   \n",
       "2014-02-04  349.59  354.00  344.02  347.95  4821177  AMZN      2    4   \n",
       "2014-02-05  346.00  349.37  337.73  346.45  4439010  AMZN      2    5   \n",
       "2014-02-06  347.40  354.82  347.40  354.59  3340542  AMZN      2    6   \n",
       "2014-02-07  358.98  361.80  352.49  361.08  4347189  AMZN      2    7   \n",
       "2014-02-10  361.61  365.00  359.35  360.87  3451093  AMZN      2   10   \n",
       "\n",
       "             day_name  year  Detrended_Close  week_of_year  day_of_week  \n",
       "Date                                                                     \n",
       "2006-01-03    Tuesday  2006         7.860418             1            2  \n",
       "2006-01-04  Wednesday  2006         7.547608             1            3  \n",
       "2006-01-05   Thursday  2006         7.964460             1            4  \n",
       "2006-01-06     Friday  2006         8.200974             1            5  \n",
       "2006-01-09     Monday  2006         7.427150             2            1  \n",
       "...               ...   ...              ...           ...          ...  \n",
       "2014-02-04    Tuesday  2014       -13.346704             6            2  \n",
       "2014-02-05  Wednesday  2014       -15.283496             6            3  \n",
       "2014-02-06   Thursday  2014        -7.580932             6            4  \n",
       "2014-02-07     Friday  2014        -1.529013             6            5  \n",
       "2014-02-10     Monday  2014        -2.177741             7            1  \n",
       "\n",
       "[2039 rows x 13 columns]"
      ]
     },
     "execution_count": 37,
     "metadata": {},
     "output_type": "execute_result"
    }
   ],
   "source": [
    "X_train"
   ]
  },
  {
   "cell_type": "code",
   "execution_count": 38,
   "id": "31a3c87e",
   "metadata": {
    "execution": {
     "iopub.execute_input": "2022-05-05T03:31:43.574362Z",
     "iopub.status.busy": "2022-05-05T03:31:43.573833Z",
     "iopub.status.idle": "2022-05-05T03:31:43.577813Z",
     "shell.execute_reply": "2022-05-05T03:31:43.577056Z"
    },
    "papermill": {
     "duration": 0.060835,
     "end_time": "2022-05-05T03:31:43.579467",
     "exception": false,
     "start_time": "2022-05-05T03:31:43.518632",
     "status": "completed"
    },
    "tags": []
   },
   "outputs": [],
   "source": [
    "y_train = X_train['Detrended_Close']\n",
    "y_test = X_test['Detrended_Close']"
   ]
  },
  {
   "cell_type": "code",
   "execution_count": 39,
   "id": "e5f9a327",
   "metadata": {
    "execution": {
     "iopub.execute_input": "2022-05-05T03:31:43.690017Z",
     "iopub.status.busy": "2022-05-05T03:31:43.689444Z",
     "iopub.status.idle": "2022-05-05T03:31:43.698689Z",
     "shell.execute_reply": "2022-05-05T03:31:43.697997Z"
    },
    "papermill": {
     "duration": 0.067158,
     "end_time": "2022-05-05T03:31:43.700720",
     "exception": false,
     "start_time": "2022-05-05T03:31:43.633562",
     "status": "completed"
    },
    "tags": []
   },
   "outputs": [],
   "source": [
    "X_train_enc = pd.get_dummies(data = X_train, columns=['year'])\n",
    "include = [i for i in X_train_enc.columns if i.startswith('year')]\n",
    "include\n",
    "X_train_enc = X_train_enc[include]"
   ]
  },
  {
   "cell_type": "code",
   "execution_count": 40,
   "id": "bf3531c9",
   "metadata": {
    "execution": {
     "iopub.execute_input": "2022-05-05T03:31:43.809665Z",
     "iopub.status.busy": "2022-05-05T03:31:43.808997Z",
     "iopub.status.idle": "2022-05-05T03:31:43.819219Z",
     "shell.execute_reply": "2022-05-05T03:31:43.818555Z"
    },
    "papermill": {
     "duration": 0.066611,
     "end_time": "2022-05-05T03:31:43.820971",
     "exception": false,
     "start_time": "2022-05-05T03:31:43.754360",
     "status": "completed"
    },
    "tags": []
   },
   "outputs": [],
   "source": [
    "X_test_enc = pd.get_dummies(data = X_test, columns=['year'])\n",
    "include = [i for i in X_test_enc.columns if i.startswith('year')]\n",
    "include\n",
    "X_test_enc = X_test_enc[include]"
   ]
  },
  {
   "cell_type": "code",
   "execution_count": 41,
   "id": "70e21c80",
   "metadata": {
    "execution": {
     "iopub.execute_input": "2022-05-05T03:31:43.931964Z",
     "iopub.status.busy": "2022-05-05T03:31:43.931673Z",
     "iopub.status.idle": "2022-05-05T03:31:43.961316Z",
     "shell.execute_reply": "2022-05-05T03:31:43.960316Z"
    },
    "papermill": {
     "duration": 0.089911,
     "end_time": "2022-05-05T03:31:43.964388",
     "exception": false,
     "start_time": "2022-05-05T03:31:43.874477",
     "status": "completed"
    },
    "tags": []
   },
   "outputs": [],
   "source": [
    "# call_four = CalendarFourier(\"A\", 1)\n",
    "fourier = CalendarFourier(freq=\"A\", order=1)  # 10 sin/cos pairs for \"A\"nnual seasonality\n",
    "\n",
    "dp = DeterministicProcess(\n",
    "    period = 9,\n",
    "    index=y_train.index,\n",
    "    constant=True,               # dummy feature for bias (y-intercept)\n",
    "    order=1,                     # trend (order 1 means linear)\n",
    "    seasonal=True,               # weekly seasonality (indicators)\n",
    "    additional_terms=[fourier],  # annual seasonality (fourier)\n",
    "    drop=True,                   # drop terms to avoid collinearity\n",
    ")\n",
    "\n",
    "X_tr = dp.in_sample() "
   ]
  },
  {
   "cell_type": "code",
   "execution_count": 42,
   "id": "49b5240c",
   "metadata": {
    "execution": {
     "iopub.execute_input": "2022-05-05T03:31:44.152259Z",
     "iopub.status.busy": "2022-05-05T03:31:44.151948Z",
     "iopub.status.idle": "2022-05-05T03:31:44.177280Z",
     "shell.execute_reply": "2022-05-05T03:31:44.176208Z"
    },
    "papermill": {
     "duration": 0.082568,
     "end_time": "2022-05-05T03:31:44.179053",
     "exception": false,
     "start_time": "2022-05-05T03:31:44.096485",
     "status": "completed"
    },
    "tags": []
   },
   "outputs": [
    {
     "data": {
      "text/html": [
       "<div>\n",
       "<style scoped>\n",
       "    .dataframe tbody tr th:only-of-type {\n",
       "        vertical-align: middle;\n",
       "    }\n",
       "\n",
       "    .dataframe tbody tr th {\n",
       "        vertical-align: top;\n",
       "    }\n",
       "\n",
       "    .dataframe thead th {\n",
       "        text-align: right;\n",
       "    }\n",
       "</style>\n",
       "<table border=\"1\" class=\"dataframe\">\n",
       "  <thead>\n",
       "    <tr style=\"text-align: right;\">\n",
       "      <th></th>\n",
       "      <th>const</th>\n",
       "      <th>trend</th>\n",
       "      <th>s(2,9)</th>\n",
       "      <th>s(3,9)</th>\n",
       "      <th>s(4,9)</th>\n",
       "      <th>s(5,9)</th>\n",
       "      <th>s(6,9)</th>\n",
       "      <th>s(7,9)</th>\n",
       "      <th>s(8,9)</th>\n",
       "      <th>s(9,9)</th>\n",
       "      <th>sin(1,freq=A-DEC)</th>\n",
       "      <th>cos(1,freq=A-DEC)</th>\n",
       "    </tr>\n",
       "    <tr>\n",
       "      <th>Date</th>\n",
       "      <th></th>\n",
       "      <th></th>\n",
       "      <th></th>\n",
       "      <th></th>\n",
       "      <th></th>\n",
       "      <th></th>\n",
       "      <th></th>\n",
       "      <th></th>\n",
       "      <th></th>\n",
       "      <th></th>\n",
       "      <th></th>\n",
       "      <th></th>\n",
       "    </tr>\n",
       "  </thead>\n",
       "  <tbody>\n",
       "    <tr>\n",
       "      <th>2006-01-03</th>\n",
       "      <td>1.0</td>\n",
       "      <td>1.0</td>\n",
       "      <td>0.0</td>\n",
       "      <td>0.0</td>\n",
       "      <td>0.0</td>\n",
       "      <td>0.0</td>\n",
       "      <td>0.0</td>\n",
       "      <td>0.0</td>\n",
       "      <td>0.0</td>\n",
       "      <td>0.0</td>\n",
       "      <td>0.034422</td>\n",
       "      <td>0.999407</td>\n",
       "    </tr>\n",
       "    <tr>\n",
       "      <th>2006-01-04</th>\n",
       "      <td>1.0</td>\n",
       "      <td>2.0</td>\n",
       "      <td>1.0</td>\n",
       "      <td>0.0</td>\n",
       "      <td>0.0</td>\n",
       "      <td>0.0</td>\n",
       "      <td>0.0</td>\n",
       "      <td>0.0</td>\n",
       "      <td>0.0</td>\n",
       "      <td>0.0</td>\n",
       "      <td>0.051620</td>\n",
       "      <td>0.998667</td>\n",
       "    </tr>\n",
       "    <tr>\n",
       "      <th>2006-01-05</th>\n",
       "      <td>1.0</td>\n",
       "      <td>3.0</td>\n",
       "      <td>0.0</td>\n",
       "      <td>1.0</td>\n",
       "      <td>0.0</td>\n",
       "      <td>0.0</td>\n",
       "      <td>0.0</td>\n",
       "      <td>0.0</td>\n",
       "      <td>0.0</td>\n",
       "      <td>0.0</td>\n",
       "      <td>0.068802</td>\n",
       "      <td>0.997630</td>\n",
       "    </tr>\n",
       "    <tr>\n",
       "      <th>2006-01-06</th>\n",
       "      <td>1.0</td>\n",
       "      <td>4.0</td>\n",
       "      <td>0.0</td>\n",
       "      <td>0.0</td>\n",
       "      <td>1.0</td>\n",
       "      <td>0.0</td>\n",
       "      <td>0.0</td>\n",
       "      <td>0.0</td>\n",
       "      <td>0.0</td>\n",
       "      <td>0.0</td>\n",
       "      <td>0.085965</td>\n",
       "      <td>0.996298</td>\n",
       "    </tr>\n",
       "    <tr>\n",
       "      <th>2006-01-09</th>\n",
       "      <td>1.0</td>\n",
       "      <td>5.0</td>\n",
       "      <td>0.0</td>\n",
       "      <td>0.0</td>\n",
       "      <td>0.0</td>\n",
       "      <td>1.0</td>\n",
       "      <td>0.0</td>\n",
       "      <td>0.0</td>\n",
       "      <td>0.0</td>\n",
       "      <td>0.0</td>\n",
       "      <td>0.137279</td>\n",
       "      <td>0.990532</td>\n",
       "    </tr>\n",
       "    <tr>\n",
       "      <th>...</th>\n",
       "      <td>...</td>\n",
       "      <td>...</td>\n",
       "      <td>...</td>\n",
       "      <td>...</td>\n",
       "      <td>...</td>\n",
       "      <td>...</td>\n",
       "      <td>...</td>\n",
       "      <td>...</td>\n",
       "      <td>...</td>\n",
       "      <td>...</td>\n",
       "      <td>...</td>\n",
       "      <td>...</td>\n",
       "    </tr>\n",
       "    <tr>\n",
       "      <th>2014-02-04</th>\n",
       "      <td>1.0</td>\n",
       "      <td>2035.0</td>\n",
       "      <td>0.0</td>\n",
       "      <td>0.0</td>\n",
       "      <td>0.0</td>\n",
       "      <td>0.0</td>\n",
       "      <td>0.0</td>\n",
       "      <td>0.0</td>\n",
       "      <td>0.0</td>\n",
       "      <td>0.0</td>\n",
       "      <td>0.552435</td>\n",
       "      <td>0.833556</td>\n",
       "    </tr>\n",
       "    <tr>\n",
       "      <th>2014-02-05</th>\n",
       "      <td>1.0</td>\n",
       "      <td>2036.0</td>\n",
       "      <td>1.0</td>\n",
       "      <td>0.0</td>\n",
       "      <td>0.0</td>\n",
       "      <td>0.0</td>\n",
       "      <td>0.0</td>\n",
       "      <td>0.0</td>\n",
       "      <td>0.0</td>\n",
       "      <td>0.0</td>\n",
       "      <td>0.566702</td>\n",
       "      <td>0.823923</td>\n",
       "    </tr>\n",
       "    <tr>\n",
       "      <th>2014-02-06</th>\n",
       "      <td>1.0</td>\n",
       "      <td>2037.0</td>\n",
       "      <td>0.0</td>\n",
       "      <td>1.0</td>\n",
       "      <td>0.0</td>\n",
       "      <td>0.0</td>\n",
       "      <td>0.0</td>\n",
       "      <td>0.0</td>\n",
       "      <td>0.0</td>\n",
       "      <td>0.0</td>\n",
       "      <td>0.580800</td>\n",
       "      <td>0.814046</td>\n",
       "    </tr>\n",
       "    <tr>\n",
       "      <th>2014-02-07</th>\n",
       "      <td>1.0</td>\n",
       "      <td>2038.0</td>\n",
       "      <td>0.0</td>\n",
       "      <td>0.0</td>\n",
       "      <td>1.0</td>\n",
       "      <td>0.0</td>\n",
       "      <td>0.0</td>\n",
       "      <td>0.0</td>\n",
       "      <td>0.0</td>\n",
       "      <td>0.0</td>\n",
       "      <td>0.594727</td>\n",
       "      <td>0.803928</td>\n",
       "    </tr>\n",
       "    <tr>\n",
       "      <th>2014-02-10</th>\n",
       "      <td>1.0</td>\n",
       "      <td>2039.0</td>\n",
       "      <td>0.0</td>\n",
       "      <td>0.0</td>\n",
       "      <td>0.0</td>\n",
       "      <td>1.0</td>\n",
       "      <td>0.0</td>\n",
       "      <td>0.0</td>\n",
       "      <td>0.0</td>\n",
       "      <td>0.0</td>\n",
       "      <td>0.635432</td>\n",
       "      <td>0.772157</td>\n",
       "    </tr>\n",
       "  </tbody>\n",
       "</table>\n",
       "<p>2039 rows × 12 columns</p>\n",
       "</div>"
      ],
      "text/plain": [
       "            const   trend  s(2,9)  s(3,9)  s(4,9)  s(5,9)  s(6,9)  s(7,9)  \\\n",
       "Date                                                                        \n",
       "2006-01-03    1.0     1.0     0.0     0.0     0.0     0.0     0.0     0.0   \n",
       "2006-01-04    1.0     2.0     1.0     0.0     0.0     0.0     0.0     0.0   \n",
       "2006-01-05    1.0     3.0     0.0     1.0     0.0     0.0     0.0     0.0   \n",
       "2006-01-06    1.0     4.0     0.0     0.0     1.0     0.0     0.0     0.0   \n",
       "2006-01-09    1.0     5.0     0.0     0.0     0.0     1.0     0.0     0.0   \n",
       "...           ...     ...     ...     ...     ...     ...     ...     ...   \n",
       "2014-02-04    1.0  2035.0     0.0     0.0     0.0     0.0     0.0     0.0   \n",
       "2014-02-05    1.0  2036.0     1.0     0.0     0.0     0.0     0.0     0.0   \n",
       "2014-02-06    1.0  2037.0     0.0     1.0     0.0     0.0     0.0     0.0   \n",
       "2014-02-07    1.0  2038.0     0.0     0.0     1.0     0.0     0.0     0.0   \n",
       "2014-02-10    1.0  2039.0     0.0     0.0     0.0     1.0     0.0     0.0   \n",
       "\n",
       "            s(8,9)  s(9,9)  sin(1,freq=A-DEC)  cos(1,freq=A-DEC)  \n",
       "Date                                                              \n",
       "2006-01-03     0.0     0.0           0.034422           0.999407  \n",
       "2006-01-04     0.0     0.0           0.051620           0.998667  \n",
       "2006-01-05     0.0     0.0           0.068802           0.997630  \n",
       "2006-01-06     0.0     0.0           0.085965           0.996298  \n",
       "2006-01-09     0.0     0.0           0.137279           0.990532  \n",
       "...            ...     ...                ...                ...  \n",
       "2014-02-04     0.0     0.0           0.552435           0.833556  \n",
       "2014-02-05     0.0     0.0           0.566702           0.823923  \n",
       "2014-02-06     0.0     0.0           0.580800           0.814046  \n",
       "2014-02-07     0.0     0.0           0.594727           0.803928  \n",
       "2014-02-10     0.0     0.0           0.635432           0.772157  \n",
       "\n",
       "[2039 rows x 12 columns]"
      ]
     },
     "execution_count": 42,
     "metadata": {},
     "output_type": "execute_result"
    }
   ],
   "source": [
    "X_tr"
   ]
  },
  {
   "cell_type": "code",
   "execution_count": 43,
   "id": "fa90805b",
   "metadata": {
    "execution": {
     "iopub.execute_input": "2022-05-05T03:31:44.288337Z",
     "iopub.status.busy": "2022-05-05T03:31:44.287832Z",
     "iopub.status.idle": "2022-05-05T03:31:44.293368Z",
     "shell.execute_reply": "2022-05-05T03:31:44.292830Z"
    },
    "papermill": {
     "duration": 0.062068,
     "end_time": "2022-05-05T03:31:44.294985",
     "exception": false,
     "start_time": "2022-05-05T03:31:44.232917",
     "status": "completed"
    },
    "tags": []
   },
   "outputs": [
    {
     "data": {
      "text/plain": [
       "DatetimeIndex(['2014-02-11', '2014-02-12', '2014-02-13', '2014-02-14',\n",
       "               '2014-02-18', '2014-02-19', '2014-02-20', '2014-02-21',\n",
       "               '2014-02-24', '2014-02-25',\n",
       "               ...\n",
       "               '2016-10-06', '2016-10-07', '2016-10-10', '2016-10-11',\n",
       "               '2016-10-12', '2016-10-13', '2016-10-14', '2016-10-17',\n",
       "               '2016-10-18', '2016-10-19'],\n",
       "              dtype='datetime64[ns]', name='Date', length=679, freq=None)"
      ]
     },
     "execution_count": 43,
     "metadata": {},
     "output_type": "execute_result"
    }
   ],
   "source": [
    "y_test.index"
   ]
  },
  {
   "cell_type": "code",
   "execution_count": 44,
   "id": "abf6c3da",
   "metadata": {
    "execution": {
     "iopub.execute_input": "2022-05-05T03:31:44.406396Z",
     "iopub.status.busy": "2022-05-05T03:31:44.405867Z",
     "iopub.status.idle": "2022-05-05T03:31:44.438699Z",
     "shell.execute_reply": "2022-05-05T03:31:44.437659Z"
    },
    "papermill": {
     "duration": 0.092836,
     "end_time": "2022-05-05T03:31:44.441867",
     "exception": false,
     "start_time": "2022-05-05T03:31:44.349031",
     "status": "completed"
    },
    "tags": []
   },
   "outputs": [],
   "source": [
    "lr = LinearRegression()\n",
    "_ = lr.fit(X_tr, y_train)\n",
    "\n",
    "y_pred = pd.Series(lr.predict(X_tr), index=y_train.index)\n",
    "X_te_for = dp.out_of_sample(steps=679, forecast_index=y_test.index)\n",
    "y_te_for = pd.Series(lr.predict(X_te_for), index= y_test.index)"
   ]
  },
  {
   "cell_type": "code",
   "execution_count": 45,
   "id": "6a2ac002",
   "metadata": {
    "execution": {
     "iopub.execute_input": "2022-05-05T03:31:44.621571Z",
     "iopub.status.busy": "2022-05-05T03:31:44.621294Z",
     "iopub.status.idle": "2022-05-05T03:31:44.646327Z",
     "shell.execute_reply": "2022-05-05T03:31:44.645641Z"
    },
    "papermill": {
     "duration": 0.084772,
     "end_time": "2022-05-05T03:31:44.648177",
     "exception": false,
     "start_time": "2022-05-05T03:31:44.563405",
     "status": "completed"
    },
    "tags": []
   },
   "outputs": [
    {
     "data": {
      "text/html": [
       "<div>\n",
       "<style scoped>\n",
       "    .dataframe tbody tr th:only-of-type {\n",
       "        vertical-align: middle;\n",
       "    }\n",
       "\n",
       "    .dataframe tbody tr th {\n",
       "        vertical-align: top;\n",
       "    }\n",
       "\n",
       "    .dataframe thead th {\n",
       "        text-align: right;\n",
       "    }\n",
       "</style>\n",
       "<table border=\"1\" class=\"dataframe\">\n",
       "  <thead>\n",
       "    <tr style=\"text-align: right;\">\n",
       "      <th></th>\n",
       "      <th>const</th>\n",
       "      <th>trend</th>\n",
       "      <th>s(2,9)</th>\n",
       "      <th>s(3,9)</th>\n",
       "      <th>s(4,9)</th>\n",
       "      <th>s(5,9)</th>\n",
       "      <th>s(6,9)</th>\n",
       "      <th>s(7,9)</th>\n",
       "      <th>s(8,9)</th>\n",
       "      <th>s(9,9)</th>\n",
       "      <th>sin(1,freq=A-DEC)</th>\n",
       "      <th>cos(1,freq=A-DEC)</th>\n",
       "    </tr>\n",
       "    <tr>\n",
       "      <th>Date</th>\n",
       "      <th></th>\n",
       "      <th></th>\n",
       "      <th></th>\n",
       "      <th></th>\n",
       "      <th></th>\n",
       "      <th></th>\n",
       "      <th></th>\n",
       "      <th></th>\n",
       "      <th></th>\n",
       "      <th></th>\n",
       "      <th></th>\n",
       "      <th></th>\n",
       "    </tr>\n",
       "  </thead>\n",
       "  <tbody>\n",
       "    <tr>\n",
       "      <th>2014-02-11</th>\n",
       "      <td>1.0</td>\n",
       "      <td>2040.0</td>\n",
       "      <td>0.0</td>\n",
       "      <td>0.0</td>\n",
       "      <td>0.0</td>\n",
       "      <td>0.0</td>\n",
       "      <td>1.0</td>\n",
       "      <td>0.0</td>\n",
       "      <td>0.0</td>\n",
       "      <td>0.0</td>\n",
       "      <td>0.648630</td>\n",
       "      <td>0.761104</td>\n",
       "    </tr>\n",
       "    <tr>\n",
       "      <th>2014-02-12</th>\n",
       "      <td>1.0</td>\n",
       "      <td>2041.0</td>\n",
       "      <td>0.0</td>\n",
       "      <td>0.0</td>\n",
       "      <td>0.0</td>\n",
       "      <td>0.0</td>\n",
       "      <td>0.0</td>\n",
       "      <td>1.0</td>\n",
       "      <td>0.0</td>\n",
       "      <td>0.0</td>\n",
       "      <td>0.661635</td>\n",
       "      <td>0.749826</td>\n",
       "    </tr>\n",
       "    <tr>\n",
       "      <th>2014-02-13</th>\n",
       "      <td>1.0</td>\n",
       "      <td>2042.0</td>\n",
       "      <td>0.0</td>\n",
       "      <td>0.0</td>\n",
       "      <td>0.0</td>\n",
       "      <td>0.0</td>\n",
       "      <td>0.0</td>\n",
       "      <td>0.0</td>\n",
       "      <td>1.0</td>\n",
       "      <td>0.0</td>\n",
       "      <td>0.674444</td>\n",
       "      <td>0.738326</td>\n",
       "    </tr>\n",
       "    <tr>\n",
       "      <th>2014-02-14</th>\n",
       "      <td>1.0</td>\n",
       "      <td>2043.0</td>\n",
       "      <td>0.0</td>\n",
       "      <td>0.0</td>\n",
       "      <td>0.0</td>\n",
       "      <td>0.0</td>\n",
       "      <td>0.0</td>\n",
       "      <td>0.0</td>\n",
       "      <td>0.0</td>\n",
       "      <td>1.0</td>\n",
       "      <td>0.687053</td>\n",
       "      <td>0.726608</td>\n",
       "    </tr>\n",
       "    <tr>\n",
       "      <th>2014-02-18</th>\n",
       "      <td>1.0</td>\n",
       "      <td>2044.0</td>\n",
       "      <td>0.0</td>\n",
       "      <td>0.0</td>\n",
       "      <td>0.0</td>\n",
       "      <td>0.0</td>\n",
       "      <td>0.0</td>\n",
       "      <td>0.0</td>\n",
       "      <td>0.0</td>\n",
       "      <td>0.0</td>\n",
       "      <td>0.735417</td>\n",
       "      <td>0.677615</td>\n",
       "    </tr>\n",
       "    <tr>\n",
       "      <th>...</th>\n",
       "      <td>...</td>\n",
       "      <td>...</td>\n",
       "      <td>...</td>\n",
       "      <td>...</td>\n",
       "      <td>...</td>\n",
       "      <td>...</td>\n",
       "      <td>...</td>\n",
       "      <td>...</td>\n",
       "      <td>...</td>\n",
       "      <td>...</td>\n",
       "      <td>...</td>\n",
       "      <td>...</td>\n",
       "    </tr>\n",
       "    <tr>\n",
       "      <th>2016-10-13</th>\n",
       "      <td>1.0</td>\n",
       "      <td>2714.0</td>\n",
       "      <td>0.0</td>\n",
       "      <td>0.0</td>\n",
       "      <td>0.0</td>\n",
       "      <td>1.0</td>\n",
       "      <td>0.0</td>\n",
       "      <td>0.0</td>\n",
       "      <td>0.0</td>\n",
       "      <td>0.0</td>\n",
       "      <td>-0.980575</td>\n",
       "      <td>0.196143</td>\n",
       "    </tr>\n",
       "    <tr>\n",
       "      <th>2016-10-14</th>\n",
       "      <td>1.0</td>\n",
       "      <td>2715.0</td>\n",
       "      <td>0.0</td>\n",
       "      <td>0.0</td>\n",
       "      <td>0.0</td>\n",
       "      <td>0.0</td>\n",
       "      <td>1.0</td>\n",
       "      <td>0.0</td>\n",
       "      <td>0.0</td>\n",
       "      <td>0.0</td>\n",
       "      <td>-0.977064</td>\n",
       "      <td>0.212947</td>\n",
       "    </tr>\n",
       "    <tr>\n",
       "      <th>2016-10-17</th>\n",
       "      <td>1.0</td>\n",
       "      <td>2716.0</td>\n",
       "      <td>0.0</td>\n",
       "      <td>0.0</td>\n",
       "      <td>0.0</td>\n",
       "      <td>0.0</td>\n",
       "      <td>0.0</td>\n",
       "      <td>1.0</td>\n",
       "      <td>0.0</td>\n",
       "      <td>0.0</td>\n",
       "      <td>-0.964806</td>\n",
       "      <td>0.262962</td>\n",
       "    </tr>\n",
       "    <tr>\n",
       "      <th>2016-10-18</th>\n",
       "      <td>1.0</td>\n",
       "      <td>2717.0</td>\n",
       "      <td>0.0</td>\n",
       "      <td>0.0</td>\n",
       "      <td>0.0</td>\n",
       "      <td>0.0</td>\n",
       "      <td>0.0</td>\n",
       "      <td>0.0</td>\n",
       "      <td>1.0</td>\n",
       "      <td>0.0</td>\n",
       "      <td>-0.960150</td>\n",
       "      <td>0.279486</td>\n",
       "    </tr>\n",
       "    <tr>\n",
       "      <th>2016-10-19</th>\n",
       "      <td>1.0</td>\n",
       "      <td>2718.0</td>\n",
       "      <td>0.0</td>\n",
       "      <td>0.0</td>\n",
       "      <td>0.0</td>\n",
       "      <td>0.0</td>\n",
       "      <td>0.0</td>\n",
       "      <td>0.0</td>\n",
       "      <td>0.0</td>\n",
       "      <td>1.0</td>\n",
       "      <td>-0.955211</td>\n",
       "      <td>0.295927</td>\n",
       "    </tr>\n",
       "  </tbody>\n",
       "</table>\n",
       "<p>679 rows × 12 columns</p>\n",
       "</div>"
      ],
      "text/plain": [
       "            const   trend  s(2,9)  s(3,9)  s(4,9)  s(5,9)  s(6,9)  s(7,9)  \\\n",
       "Date                                                                        \n",
       "2014-02-11    1.0  2040.0     0.0     0.0     0.0     0.0     1.0     0.0   \n",
       "2014-02-12    1.0  2041.0     0.0     0.0     0.0     0.0     0.0     1.0   \n",
       "2014-02-13    1.0  2042.0     0.0     0.0     0.0     0.0     0.0     0.0   \n",
       "2014-02-14    1.0  2043.0     0.0     0.0     0.0     0.0     0.0     0.0   \n",
       "2014-02-18    1.0  2044.0     0.0     0.0     0.0     0.0     0.0     0.0   \n",
       "...           ...     ...     ...     ...     ...     ...     ...     ...   \n",
       "2016-10-13    1.0  2714.0     0.0     0.0     0.0     1.0     0.0     0.0   \n",
       "2016-10-14    1.0  2715.0     0.0     0.0     0.0     0.0     1.0     0.0   \n",
       "2016-10-17    1.0  2716.0     0.0     0.0     0.0     0.0     0.0     1.0   \n",
       "2016-10-18    1.0  2717.0     0.0     0.0     0.0     0.0     0.0     0.0   \n",
       "2016-10-19    1.0  2718.0     0.0     0.0     0.0     0.0     0.0     0.0   \n",
       "\n",
       "            s(8,9)  s(9,9)  sin(1,freq=A-DEC)  cos(1,freq=A-DEC)  \n",
       "Date                                                              \n",
       "2014-02-11     0.0     0.0           0.648630           0.761104  \n",
       "2014-02-12     0.0     0.0           0.661635           0.749826  \n",
       "2014-02-13     1.0     0.0           0.674444           0.738326  \n",
       "2014-02-14     0.0     1.0           0.687053           0.726608  \n",
       "2014-02-18     0.0     0.0           0.735417           0.677615  \n",
       "...            ...     ...                ...                ...  \n",
       "2016-10-13     0.0     0.0          -0.980575           0.196143  \n",
       "2016-10-14     0.0     0.0          -0.977064           0.212947  \n",
       "2016-10-17     0.0     0.0          -0.964806           0.262962  \n",
       "2016-10-18     1.0     0.0          -0.960150           0.279486  \n",
       "2016-10-19     0.0     1.0          -0.955211           0.295927  \n",
       "\n",
       "[679 rows x 12 columns]"
      ]
     },
     "execution_count": 45,
     "metadata": {},
     "output_type": "execute_result"
    }
   ],
   "source": [
    "X_te_for"
   ]
  },
  {
   "cell_type": "code",
   "execution_count": 46,
   "id": "aaa20fbe",
   "metadata": {
    "execution": {
     "iopub.execute_input": "2022-05-05T03:31:44.763553Z",
     "iopub.status.busy": "2022-05-05T03:31:44.763027Z",
     "iopub.status.idle": "2022-05-05T03:31:45.057185Z",
     "shell.execute_reply": "2022-05-05T03:31:45.055851Z"
    },
    "papermill": {
     "duration": 0.355644,
     "end_time": "2022-05-05T03:31:45.059592",
     "exception": false,
     "start_time": "2022-05-05T03:31:44.703948",
     "status": "completed"
    },
    "tags": []
   },
   "outputs": [
    {
     "data": {
      "image/png": "[encoded data removed]",
      "text/plain": [
       "<Figure size 432x288 with 1 Axes>"
      ]
     },
     "metadata": {
      "needs_background": "light"
     },
     "output_type": "display_data"
    }
   ],
   "source": [
    "ax = y_train.plot(color='0.25', style='.', title=\"Tunnel Traffic - Seasonal Forecast\")\n",
    "ax = y_test.plot(color='0.25', style='.', title=\"Tunnel Traffic - Seasonal Forecast\")\n",
    "ax = y_pred.plot(ax=ax, label=\"Seasonal\")\n",
    "ax = y_te_for.plot(ax=ax, label=\"Seasonal Forecast\", color='C3')\n",
    "#ax = y_pred.plot(ax=ax, label=\"Seasonal\")\n",
    "_ = ax.legend()"
   ]
  },
  {
   "cell_type": "code",
   "execution_count": 47,
   "id": "3c25fd4e",
   "metadata": {
    "execution": {
     "iopub.execute_input": "2022-05-05T03:31:45.176466Z",
     "iopub.status.busy": "2022-05-05T03:31:45.176155Z",
     "iopub.status.idle": "2022-05-05T03:31:45.182499Z",
     "shell.execute_reply": "2022-05-05T03:31:45.181688Z"
    },
    "papermill": {
     "duration": 0.066237,
     "end_time": "2022-05-05T03:31:45.184309",
     "exception": false,
     "start_time": "2022-05-05T03:31:45.118072",
     "status": "completed"
    },
    "tags": []
   },
   "outputs": [
    {
     "data": {
      "text/plain": [
       "DatetimeIndex(['2014-02-11', '2014-02-12', '2014-02-13', '2014-02-14',\n",
       "               '2014-02-18', '2014-02-19', '2014-02-20', '2014-02-21',\n",
       "               '2014-02-24', '2014-02-25',\n",
       "               ...\n",
       "               '2016-10-06', '2016-10-07', '2016-10-10', '2016-10-11',\n",
       "               '2016-10-12', '2016-10-13', '2016-10-14', '2016-10-17',\n",
       "               '2016-10-18', '2016-10-19'],\n",
       "              dtype='datetime64[ns]', name='Date', length=679, freq=None)"
      ]
     },
     "execution_count": 47,
     "metadata": {},
     "output_type": "execute_result"
    }
   ],
   "source": [
    "y_te_for.index"
   ]
  },
  {
   "cell_type": "code",
   "execution_count": null,
   "id": "eaed3deb",
   "metadata": {
    "papermill": {
     "duration": 0.056814,
     "end_time": "2022-05-05T03:31:45.298129",
     "exception": false,
     "start_time": "2022-05-05T03:31:45.241315",
     "status": "completed"
    },
    "tags": []
   },
   "outputs": [],
   "source": []
  }
 ],
 "metadata": {
  "kernelspec": {
   "display_name": "Python 3",
   "language": "python",
   "name": "python3"
  },
  "language_info": {
   "codemirror_mode": {
    "name": "ipython",
    "version": 3
   },
   "file_extension": ".py",
   "mimetype": "text/x-python",
   "name": "python",
   "nbconvert_exporter": "python",
   "pygments_lexer": "ipython3",
   "version": "3.7.12"
  },
  "papermill": {
   "default_parameters": {},
   "duration": 26.157844,
   "end_time": "2022-05-05T03:31:46.175385",
   "environment_variables": {},
   "exception": null,
   "input_path": "__notebook__.ipynb",
   "output_path": "__notebook__.ipynb",
   "parameters": {},
   "start_time": "2022-05-05T03:31:20.017541",
   "version": "2.3.4"
  }
 },
 "nbformat": 4,
 "nbformat_minor": 5
}

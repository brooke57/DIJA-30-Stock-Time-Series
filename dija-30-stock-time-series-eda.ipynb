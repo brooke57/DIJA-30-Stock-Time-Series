{
 "cells": [
  {
   "cell_type": "code",
   "execution_count": 1,
   "id": "ea7d23d8",
   "metadata": {
    "_cell_guid": "b1076dfc-b9ad-4769-8c92-a6c4dae69d19",
    "_uuid": "8f2839f25d086af736a60e9eeb907d3b93b6e0e5",
    "execution": {
     "iopub.execute_input": "2022-04-28T01:57:09.960016Z",
     "iopub.status.busy": "2022-04-28T01:57:09.959241Z",
     "iopub.status.idle": "2022-04-28T01:57:09.987945Z",
     "shell.execute_reply": "2022-04-28T01:57:09.987093Z"
    },
    "papermill": {
     "duration": 0.058759,
     "end_time": "2022-04-28T01:57:09.990746",
     "exception": false,
     "start_time": "2022-04-28T01:57:09.931987",
     "status": "completed"
    },
    "scrolled": true,
    "tags": []
   },
   "outputs": [
    {
     "name": "stdout",
     "output_type": "stream",
     "text": [
      "/kaggle/input/stock-time-series-20050101-to-20171231/CAT_2006-01-01_to_2018-01-01.csv\n",
      "/kaggle/input/stock-time-series-20050101-to-20171231/UTX_2006-01-01_to_2018-01-01.csv\n",
      "/kaggle/input/stock-time-series-20050101-to-20171231/PFE_2006-01-01_to_2018-01-01.csv\n",
      "/kaggle/input/stock-time-series-20050101-to-20171231/PG_2006-01-01_to_2018-01-01.csv\n",
      "/kaggle/input/stock-time-series-20050101-to-20171231/UNH_2006-01-01_to_2018-01-01.csv\n",
      "/kaggle/input/stock-time-series-20050101-to-20171231/JNJ_2006-01-01_to_2018-01-01.csv\n",
      "/kaggle/input/stock-time-series-20050101-to-20171231/VZ_2006-01-01_to_2018-01-01.csv\n",
      "/kaggle/input/stock-time-series-20050101-to-20171231/AABA_2006-01-01_to_2018-01-01.csv\n",
      "/kaggle/input/stock-time-series-20050101-to-20171231/BA_2006-01-01_to_2018-01-01.csv\n",
      "/kaggle/input/stock-time-series-20050101-to-20171231/KO_2006-01-01_to_2018-01-01.csv\n",
      "/kaggle/input/stock-time-series-20050101-to-20171231/MCD_2006-01-01_to_2018-01-01.csv\n",
      "/kaggle/input/stock-time-series-20050101-to-20171231/MRK_2006-01-01_to_2018-01-01.csv\n",
      "/kaggle/input/stock-time-series-20050101-to-20171231/AMZN_2006-01-01_to_2018-01-01.csv\n",
      "/kaggle/input/stock-time-series-20050101-to-20171231/WMT_2006-01-01_to_2018-01-01.csv\n",
      "/kaggle/input/stock-time-series-20050101-to-20171231/IBM_2006-01-01_to_2018-01-01.csv\n",
      "/kaggle/input/stock-time-series-20050101-to-20171231/DIS_2006-01-01_to_2018-01-01.csv\n",
      "/kaggle/input/stock-time-series-20050101-to-20171231/NKE_2006-01-01_to_2018-01-01.csv\n",
      "/kaggle/input/stock-time-series-20050101-to-20171231/MSFT_2006-01-01_to_2018-01-01.csv\n",
      "/kaggle/input/stock-time-series-20050101-to-20171231/AXP_2006-01-01_to_2018-01-01.csv\n",
      "/kaggle/input/stock-time-series-20050101-to-20171231/CSCO_2006-01-01_to_2018-01-01.csv\n",
      "/kaggle/input/stock-time-series-20050101-to-20171231/CVX_2006-01-01_to_2018-01-01.csv\n",
      "/kaggle/input/stock-time-series-20050101-to-20171231/GS_2006-01-01_to_2018-01-01.csv\n",
      "/kaggle/input/stock-time-series-20050101-to-20171231/JPM_2006-01-01_to_2018-01-01.csv\n",
      "/kaggle/input/stock-time-series-20050101-to-20171231/all_stocks_2017-01-01_to_2018-01-01.csv\n",
      "/kaggle/input/stock-time-series-20050101-to-20171231/GE_2006-01-01_to_2018-01-01.csv\n",
      "/kaggle/input/stock-time-series-20050101-to-20171231/TRV_2006-01-01_to_2018-01-01.csv\n",
      "/kaggle/input/stock-time-series-20050101-to-20171231/INTC_2006-01-01_to_2018-01-01.csv\n",
      "/kaggle/input/stock-time-series-20050101-to-20171231/XOM_2006-01-01_to_2018-01-01.csv\n",
      "/kaggle/input/stock-time-series-20050101-to-20171231/GOOGL_2006-01-01_to_2018-01-01.csv\n",
      "/kaggle/input/stock-time-series-20050101-to-20171231/all_stocks_2006-01-01_to_2018-01-01.csv\n",
      "/kaggle/input/stock-time-series-20050101-to-20171231/MMM_2006-01-01_to_2018-01-01.csv\n",
      "/kaggle/input/stock-time-series-20050101-to-20171231/HD_2006-01-01_to_2018-01-01.csv\n",
      "/kaggle/input/stock-time-series-20050101-to-20171231/AAPL_2006-01-01_to_2018-01-01.csv\n"
     ]
    }
   ],
   "source": [
    "# This Python 3 environment comes with many helpful analytics libraries installed\n",
    "# It is defined by the kaggle/python Docker image: https://github.com/kaggle/docker-python\n",
    "# For example, here's several helpful packages to load\n",
    "\n",
    "import numpy as np # linear algebra\n",
    "import pandas as pd # data processing, CSV file I/O (e.g. pd.read_csv)\n",
    "\n",
    "# Input data files are available in the read-only \"../input/\" directory\n",
    "# For example, running this (by clicking run or pressing Shift+Enter) will list all files under the input directory\n",
    "\n",
    "import os\n",
    "for dirname, _, filenames in os.walk('/kaggle/input'):\n",
    "    for filename in filenames:\n",
    "        print(os.path.join(dirname, filename))\n",
    "\n",
    "# You can write up to 20GB to the current directory (/kaggle/working/) that gets preserved as output when you create a version using \"Save & Run All\" \n",
    "# You can also write temporary files to /kaggle/temp/, but they won't be saved outside of the current session"
   ]
  },
  {
   "cell_type": "code",
   "execution_count": 2,
   "id": "d4c67626",
   "metadata": {
    "execution": {
     "iopub.execute_input": "2022-04-28T01:57:10.042738Z",
     "iopub.status.busy": "2022-04-28T01:57:10.042289Z",
     "iopub.status.idle": "2022-04-28T01:57:11.509974Z",
     "shell.execute_reply": "2022-04-28T01:57:11.509032Z"
    },
    "papermill": {
     "duration": 1.496655,
     "end_time": "2022-04-28T01:57:11.512851",
     "exception": false,
     "start_time": "2022-04-28T01:57:10.016196",
     "status": "completed"
    },
    "tags": []
   },
   "outputs": [],
   "source": [
    "import matplotlib.pyplot as plt\n",
    "import seaborn as sns\n",
    "from statsmodels.tsa.deterministic import DeterministicProcess\n",
    "from sklearn.model_selection import train_test_split\n",
    "from sklearn.linear_model import LinearRegression"
   ]
  },
  {
   "cell_type": "code",
   "execution_count": 3,
   "id": "b1e23f06",
   "metadata": {
    "execution": {
     "iopub.execute_input": "2022-04-28T01:57:11.565550Z",
     "iopub.status.busy": "2022-04-28T01:57:11.565168Z",
     "iopub.status.idle": "2022-04-28T01:57:11.622579Z",
     "shell.execute_reply": "2022-04-28T01:57:11.621532Z"
    },
    "papermill": {
     "duration": 0.08651,
     "end_time": "2022-04-28T01:57:11.624663",
     "exception": false,
     "start_time": "2022-04-28T01:57:11.538153",
     "status": "completed"
    },
    "tags": []
   },
   "outputs": [
    {
     "data": {
      "text/html": [
       "<div>\n",
       "<style scoped>\n",
       "    .dataframe tbody tr th:only-of-type {\n",
       "        vertical-align: middle;\n",
       "    }\n",
       "\n",
       "    .dataframe tbody tr th {\n",
       "        vertical-align: top;\n",
       "    }\n",
       "\n",
       "    .dataframe thead th {\n",
       "        text-align: right;\n",
       "    }\n",
       "</style>\n",
       "<table border=\"1\" class=\"dataframe\">\n",
       "  <thead>\n",
       "    <tr style=\"text-align: right;\">\n",
       "      <th></th>\n",
       "      <th>Open</th>\n",
       "      <th>High</th>\n",
       "      <th>Low</th>\n",
       "      <th>Close</th>\n",
       "      <th>Volume</th>\n",
       "      <th>Name</th>\n",
       "    </tr>\n",
       "    <tr>\n",
       "      <th>Date</th>\n",
       "      <th></th>\n",
       "      <th></th>\n",
       "      <th></th>\n",
       "      <th></th>\n",
       "      <th></th>\n",
       "      <th></th>\n",
       "    </tr>\n",
       "  </thead>\n",
       "  <tbody>\n",
       "    <tr>\n",
       "      <th>2006-01-03</th>\n",
       "      <td>47.47</td>\n",
       "      <td>47.85</td>\n",
       "      <td>46.25</td>\n",
       "      <td>47.58</td>\n",
       "      <td>7582127</td>\n",
       "      <td>AMZN</td>\n",
       "    </tr>\n",
       "    <tr>\n",
       "      <th>2006-01-04</th>\n",
       "      <td>47.48</td>\n",
       "      <td>47.73</td>\n",
       "      <td>46.69</td>\n",
       "      <td>47.25</td>\n",
       "      <td>7440914</td>\n",
       "      <td>AMZN</td>\n",
       "    </tr>\n",
       "    <tr>\n",
       "      <th>2006-01-05</th>\n",
       "      <td>47.16</td>\n",
       "      <td>48.20</td>\n",
       "      <td>47.11</td>\n",
       "      <td>47.65</td>\n",
       "      <td>5417258</td>\n",
       "      <td>AMZN</td>\n",
       "    </tr>\n",
       "    <tr>\n",
       "      <th>2006-01-06</th>\n",
       "      <td>47.97</td>\n",
       "      <td>48.58</td>\n",
       "      <td>47.32</td>\n",
       "      <td>47.87</td>\n",
       "      <td>6154285</td>\n",
       "      <td>AMZN</td>\n",
       "    </tr>\n",
       "    <tr>\n",
       "      <th>2006-01-09</th>\n",
       "      <td>46.55</td>\n",
       "      <td>47.10</td>\n",
       "      <td>46.40</td>\n",
       "      <td>47.08</td>\n",
       "      <td>8945056</td>\n",
       "      <td>AMZN</td>\n",
       "    </tr>\n",
       "  </tbody>\n",
       "</table>\n",
       "</div>"
      ],
      "text/plain": [
       "             Open   High    Low  Close   Volume  Name\n",
       "Date                                                 \n",
       "2006-01-03  47.47  47.85  46.25  47.58  7582127  AMZN\n",
       "2006-01-04  47.48  47.73  46.69  47.25  7440914  AMZN\n",
       "2006-01-05  47.16  48.20  47.11  47.65  5417258  AMZN\n",
       "2006-01-06  47.97  48.58  47.32  47.87  6154285  AMZN\n",
       "2006-01-09  46.55  47.10  46.40  47.08  8945056  AMZN"
      ]
     },
     "execution_count": 3,
     "metadata": {},
     "output_type": "execute_result"
    }
   ],
   "source": [
    "\n",
    "amzn = pd.read_csv('../input/stock-time-series-20050101-to-20171231/AMZN_2006-01-01_to_2018-01-01.csv',\n",
    "index_col='Date', parse_dates=['Date'])\n",
    "amzn.head()"
   ]
  },
  {
   "cell_type": "code",
   "execution_count": 4,
   "id": "98e0b80e",
   "metadata": {
    "execution": {
     "iopub.execute_input": "2022-04-28T01:57:11.676916Z",
     "iopub.status.busy": "2022-04-28T01:57:11.676528Z",
     "iopub.status.idle": "2022-04-28T01:57:11.702096Z",
     "shell.execute_reply": "2022-04-28T01:57:11.700145Z"
    },
    "papermill": {
     "duration": 0.054576,
     "end_time": "2022-04-28T01:57:11.704501",
     "exception": false,
     "start_time": "2022-04-28T01:57:11.649925",
     "status": "completed"
    },
    "tags": []
   },
   "outputs": [
    {
     "name": "stdout",
     "output_type": "stream",
     "text": [
      "<class 'pandas.core.frame.DataFrame'>\n",
      "DatetimeIndex: 3019 entries, 2006-01-03 to 2017-12-29\n",
      "Data columns (total 6 columns):\n",
      " #   Column  Non-Null Count  Dtype  \n",
      "---  ------  --------------  -----  \n",
      " 0   Open    3019 non-null   float64\n",
      " 1   High    3019 non-null   float64\n",
      " 2   Low     3019 non-null   float64\n",
      " 3   Close   3019 non-null   float64\n",
      " 4   Volume  3019 non-null   int64  \n",
      " 5   Name    3019 non-null   object \n",
      "dtypes: float64(4), int64(1), object(1)\n",
      "memory usage: 165.1+ KB\n"
     ]
    }
   ],
   "source": [
    "amzn.info()"
   ]
  },
  {
   "cell_type": "code",
   "execution_count": 5,
   "id": "c05876b3",
   "metadata": {
    "execution": {
     "iopub.execute_input": "2022-04-28T01:57:11.758116Z",
     "iopub.status.busy": "2022-04-28T01:57:11.757475Z",
     "iopub.status.idle": "2022-04-28T01:57:11.762953Z",
     "shell.execute_reply": "2022-04-28T01:57:11.761885Z"
    },
    "papermill": {
     "duration": 0.035462,
     "end_time": "2022-04-28T01:57:11.765183",
     "exception": false,
     "start_time": "2022-04-28T01:57:11.729721",
     "status": "completed"
    },
    "tags": []
   },
   "outputs": [],
   "source": [
    "amzn.reset_index(inplace=True)"
   ]
  },
  {
   "cell_type": "code",
   "execution_count": 6,
   "id": "554a0f4f",
   "metadata": {
    "execution": {
     "iopub.execute_input": "2022-04-28T01:57:11.817604Z",
     "iopub.status.busy": "2022-04-28T01:57:11.817004Z",
     "iopub.status.idle": "2022-04-28T01:57:11.862375Z",
     "shell.execute_reply": "2022-04-28T01:57:11.861653Z"
    },
    "papermill": {
     "duration": 0.074173,
     "end_time": "2022-04-28T01:57:11.864382",
     "exception": false,
     "start_time": "2022-04-28T01:57:11.790209",
     "status": "completed"
    },
    "tags": []
   },
   "outputs": [
    {
     "data": {
      "text/html": [
       "<div>\n",
       "<style scoped>\n",
       "    .dataframe tbody tr th:only-of-type {\n",
       "        vertical-align: middle;\n",
       "    }\n",
       "\n",
       "    .dataframe tbody tr th {\n",
       "        vertical-align: top;\n",
       "    }\n",
       "\n",
       "    .dataframe thead th {\n",
       "        text-align: right;\n",
       "    }\n",
       "</style>\n",
       "<table border=\"1\" class=\"dataframe\">\n",
       "  <thead>\n",
       "    <tr style=\"text-align: right;\">\n",
       "      <th></th>\n",
       "      <th>Date</th>\n",
       "      <th>Open</th>\n",
       "      <th>High</th>\n",
       "      <th>Low</th>\n",
       "      <th>Close</th>\n",
       "      <th>Volume</th>\n",
       "      <th>Name</th>\n",
       "      <th>month</th>\n",
       "      <th>day</th>\n",
       "      <th>day_name</th>\n",
       "      <th>year</th>\n",
       "    </tr>\n",
       "  </thead>\n",
       "  <tbody>\n",
       "    <tr>\n",
       "      <th>0</th>\n",
       "      <td>2006-01-03</td>\n",
       "      <td>47.47</td>\n",
       "      <td>47.85</td>\n",
       "      <td>46.25</td>\n",
       "      <td>47.58</td>\n",
       "      <td>7582127</td>\n",
       "      <td>AMZN</td>\n",
       "      <td>1</td>\n",
       "      <td>3</td>\n",
       "      <td>Tuesday</td>\n",
       "      <td>2006</td>\n",
       "    </tr>\n",
       "    <tr>\n",
       "      <th>1</th>\n",
       "      <td>2006-01-04</td>\n",
       "      <td>47.48</td>\n",
       "      <td>47.73</td>\n",
       "      <td>46.69</td>\n",
       "      <td>47.25</td>\n",
       "      <td>7440914</td>\n",
       "      <td>AMZN</td>\n",
       "      <td>1</td>\n",
       "      <td>4</td>\n",
       "      <td>Wednesday</td>\n",
       "      <td>2006</td>\n",
       "    </tr>\n",
       "    <tr>\n",
       "      <th>2</th>\n",
       "      <td>2006-01-05</td>\n",
       "      <td>47.16</td>\n",
       "      <td>48.20</td>\n",
       "      <td>47.11</td>\n",
       "      <td>47.65</td>\n",
       "      <td>5417258</td>\n",
       "      <td>AMZN</td>\n",
       "      <td>1</td>\n",
       "      <td>5</td>\n",
       "      <td>Thursday</td>\n",
       "      <td>2006</td>\n",
       "    </tr>\n",
       "    <tr>\n",
       "      <th>3</th>\n",
       "      <td>2006-01-06</td>\n",
       "      <td>47.97</td>\n",
       "      <td>48.58</td>\n",
       "      <td>47.32</td>\n",
       "      <td>47.87</td>\n",
       "      <td>6154285</td>\n",
       "      <td>AMZN</td>\n",
       "      <td>1</td>\n",
       "      <td>6</td>\n",
       "      <td>Friday</td>\n",
       "      <td>2006</td>\n",
       "    </tr>\n",
       "    <tr>\n",
       "      <th>4</th>\n",
       "      <td>2006-01-09</td>\n",
       "      <td>46.55</td>\n",
       "      <td>47.10</td>\n",
       "      <td>46.40</td>\n",
       "      <td>47.08</td>\n",
       "      <td>8945056</td>\n",
       "      <td>AMZN</td>\n",
       "      <td>1</td>\n",
       "      <td>9</td>\n",
       "      <td>Monday</td>\n",
       "      <td>2006</td>\n",
       "    </tr>\n",
       "  </tbody>\n",
       "</table>\n",
       "</div>"
      ],
      "text/plain": [
       "        Date   Open   High    Low  Close   Volume  Name  month  day  \\\n",
       "0 2006-01-03  47.47  47.85  46.25  47.58  7582127  AMZN      1    3   \n",
       "1 2006-01-04  47.48  47.73  46.69  47.25  7440914  AMZN      1    4   \n",
       "2 2006-01-05  47.16  48.20  47.11  47.65  5417258  AMZN      1    5   \n",
       "3 2006-01-06  47.97  48.58  47.32  47.87  6154285  AMZN      1    6   \n",
       "4 2006-01-09  46.55  47.10  46.40  47.08  8945056  AMZN      1    9   \n",
       "\n",
       "    day_name  year  \n",
       "0    Tuesday  2006  \n",
       "1  Wednesday  2006  \n",
       "2   Thursday  2006  \n",
       "3     Friday  2006  \n",
       "4     Monday  2006  "
      ]
     },
     "execution_count": 6,
     "metadata": {},
     "output_type": "execute_result"
    }
   ],
   "source": [
    "# Adding more features to the dataset, in the form day of week, month, and year\n",
    "amzn['month'] = pd.to_datetime(amzn['Date']).dt.month\n",
    "amzn['day'] = pd.to_datetime(amzn['Date']).dt.day\n",
    "amzn['day_name'] = pd.to_datetime(amzn['Date']).dt.day_name()\n",
    "amzn['year'] = pd.to_datetime(amzn['Date']).dt.year\n",
    "amzn.head()"
   ]
  },
  {
   "cell_type": "code",
   "execution_count": 7,
   "id": "a3e85928",
   "metadata": {
    "execution": {
     "iopub.execute_input": "2022-04-28T01:57:11.917793Z",
     "iopub.status.busy": "2022-04-28T01:57:11.917441Z",
     "iopub.status.idle": "2022-04-28T01:57:11.922847Z",
     "shell.execute_reply": "2022-04-28T01:57:11.921967Z"
    },
    "papermill": {
     "duration": 0.034765,
     "end_time": "2022-04-28T01:57:11.924714",
     "exception": false,
     "start_time": "2022-04-28T01:57:11.889949",
     "status": "completed"
    },
    "tags": []
   },
   "outputs": [],
   "source": [
    "amzn.set_index('Date', inplace=True)"
   ]
  },
  {
   "cell_type": "code",
   "execution_count": 8,
   "id": "f3910df7",
   "metadata": {
    "execution": {
     "iopub.execute_input": "2022-04-28T01:57:11.978099Z",
     "iopub.status.busy": "2022-04-28T01:57:11.977477Z",
     "iopub.status.idle": "2022-04-28T01:57:11.995019Z",
     "shell.execute_reply": "2022-04-28T01:57:11.993927Z"
    },
    "papermill": {
     "duration": 0.046949,
     "end_time": "2022-04-28T01:57:11.997254",
     "exception": false,
     "start_time": "2022-04-28T01:57:11.950305",
     "status": "completed"
    },
    "tags": []
   },
   "outputs": [
    {
     "data": {
      "text/html": [
       "<div>\n",
       "<style scoped>\n",
       "    .dataframe tbody tr th:only-of-type {\n",
       "        vertical-align: middle;\n",
       "    }\n",
       "\n",
       "    .dataframe tbody tr th {\n",
       "        vertical-align: top;\n",
       "    }\n",
       "\n",
       "    .dataframe thead th {\n",
       "        text-align: right;\n",
       "    }\n",
       "</style>\n",
       "<table border=\"1\" class=\"dataframe\">\n",
       "  <thead>\n",
       "    <tr style=\"text-align: right;\">\n",
       "      <th></th>\n",
       "      <th>Open</th>\n",
       "      <th>High</th>\n",
       "      <th>Low</th>\n",
       "      <th>Close</th>\n",
       "      <th>Volume</th>\n",
       "      <th>Name</th>\n",
       "      <th>month</th>\n",
       "      <th>day</th>\n",
       "      <th>day_name</th>\n",
       "      <th>year</th>\n",
       "    </tr>\n",
       "    <tr>\n",
       "      <th>Date</th>\n",
       "      <th></th>\n",
       "      <th></th>\n",
       "      <th></th>\n",
       "      <th></th>\n",
       "      <th></th>\n",
       "      <th></th>\n",
       "      <th></th>\n",
       "      <th></th>\n",
       "      <th></th>\n",
       "      <th></th>\n",
       "    </tr>\n",
       "  </thead>\n",
       "  <tbody>\n",
       "    <tr>\n",
       "      <th>2006-01-03</th>\n",
       "      <td>47.47</td>\n",
       "      <td>47.85</td>\n",
       "      <td>46.25</td>\n",
       "      <td>47.58</td>\n",
       "      <td>7582127</td>\n",
       "      <td>AMZN</td>\n",
       "      <td>1</td>\n",
       "      <td>3</td>\n",
       "      <td>Tuesday</td>\n",
       "      <td>2006</td>\n",
       "    </tr>\n",
       "    <tr>\n",
       "      <th>2006-01-04</th>\n",
       "      <td>47.48</td>\n",
       "      <td>47.73</td>\n",
       "      <td>46.69</td>\n",
       "      <td>47.25</td>\n",
       "      <td>7440914</td>\n",
       "      <td>AMZN</td>\n",
       "      <td>1</td>\n",
       "      <td>4</td>\n",
       "      <td>Wednesday</td>\n",
       "      <td>2006</td>\n",
       "    </tr>\n",
       "    <tr>\n",
       "      <th>2006-01-05</th>\n",
       "      <td>47.16</td>\n",
       "      <td>48.20</td>\n",
       "      <td>47.11</td>\n",
       "      <td>47.65</td>\n",
       "      <td>5417258</td>\n",
       "      <td>AMZN</td>\n",
       "      <td>1</td>\n",
       "      <td>5</td>\n",
       "      <td>Thursday</td>\n",
       "      <td>2006</td>\n",
       "    </tr>\n",
       "    <tr>\n",
       "      <th>2006-01-06</th>\n",
       "      <td>47.97</td>\n",
       "      <td>48.58</td>\n",
       "      <td>47.32</td>\n",
       "      <td>47.87</td>\n",
       "      <td>6154285</td>\n",
       "      <td>AMZN</td>\n",
       "      <td>1</td>\n",
       "      <td>6</td>\n",
       "      <td>Friday</td>\n",
       "      <td>2006</td>\n",
       "    </tr>\n",
       "    <tr>\n",
       "      <th>2006-01-09</th>\n",
       "      <td>46.55</td>\n",
       "      <td>47.10</td>\n",
       "      <td>46.40</td>\n",
       "      <td>47.08</td>\n",
       "      <td>8945056</td>\n",
       "      <td>AMZN</td>\n",
       "      <td>1</td>\n",
       "      <td>9</td>\n",
       "      <td>Monday</td>\n",
       "      <td>2006</td>\n",
       "    </tr>\n",
       "  </tbody>\n",
       "</table>\n",
       "</div>"
      ],
      "text/plain": [
       "             Open   High    Low  Close   Volume  Name  month  day   day_name  \\\n",
       "Date                                                                           \n",
       "2006-01-03  47.47  47.85  46.25  47.58  7582127  AMZN      1    3    Tuesday   \n",
       "2006-01-04  47.48  47.73  46.69  47.25  7440914  AMZN      1    4  Wednesday   \n",
       "2006-01-05  47.16  48.20  47.11  47.65  5417258  AMZN      1    5   Thursday   \n",
       "2006-01-06  47.97  48.58  47.32  47.87  6154285  AMZN      1    6     Friday   \n",
       "2006-01-09  46.55  47.10  46.40  47.08  8945056  AMZN      1    9     Monday   \n",
       "\n",
       "            year  \n",
       "Date              \n",
       "2006-01-03  2006  \n",
       "2006-01-04  2006  \n",
       "2006-01-05  2006  \n",
       "2006-01-06  2006  \n",
       "2006-01-09  2006  "
      ]
     },
     "execution_count": 8,
     "metadata": {},
     "output_type": "execute_result"
    }
   ],
   "source": [
    "amzn.head()"
   ]
  },
  {
   "cell_type": "code",
   "execution_count": 9,
   "id": "168f9995",
   "metadata": {
    "execution": {
     "iopub.execute_input": "2022-04-28T01:57:12.055369Z",
     "iopub.status.busy": "2022-04-28T01:57:12.054712Z",
     "iopub.status.idle": "2022-04-28T01:57:12.386421Z",
     "shell.execute_reply": "2022-04-28T01:57:12.385239Z"
    },
    "papermill": {
     "duration": 0.362248,
     "end_time": "2022-04-28T01:57:12.388823",
     "exception": false,
     "start_time": "2022-04-28T01:57:12.026575",
     "status": "completed"
    },
    "tags": []
   },
   "outputs": [
    {
     "data": {
      "image/png": "[encoded data removed]",
      "text/plain": [
       "<Figure size 720x432 with 1 Axes>"
      ]
     },
     "metadata": {
      "needs_background": "light"
     },
     "output_type": "display_data"
    }
   ],
   "source": [
    "fig, ax = plt.subplots(figsize=(10,6))\n",
    "amzn['High'].resample('M').mean().plot(fontsize=13)\n",
    "ax.set_xlabel(xlabel='Date', fontsize=15)\n",
    "plt.title('Amazon monthly High Stock Price 2006-2018', fontsize=15);"
   ]
  },
  {
   "cell_type": "code",
   "execution_count": 10,
   "id": "ce04c15d",
   "metadata": {
    "execution": {
     "iopub.execute_input": "2022-04-28T01:57:12.447378Z",
     "iopub.status.busy": "2022-04-28T01:57:12.446219Z",
     "iopub.status.idle": "2022-04-28T01:57:12.819118Z",
     "shell.execute_reply": "2022-04-28T01:57:12.818081Z"
    },
    "papermill": {
     "duration": 0.40428,
     "end_time": "2022-04-28T01:57:12.821549",
     "exception": false,
     "start_time": "2022-04-28T01:57:12.417269",
     "status": "completed"
    },
    "tags": []
   },
   "outputs": [
    {
     "data": {
      "image/png": "[encoded data removed]",
      "text/plain": [
       "<Figure size 864x720 with 1 Axes>"
      ]
     },
     "metadata": {
      "needs_background": "light"
     },
     "output_type": "display_data"
    }
   ],
   "source": [
    "fig, ax = plt.subplots(figsize=(12,10))\n",
    "trend = amzn['High'].rolling(\n",
    "    window=365,       # 365-day window\n",
    "    center=True,      # puts the average at the center of the window\n",
    "    min_periods=183,  # choose about half the window size\n",
    ").mean()              # compute the mean (could also do median, std, min, max, ...)\n",
    "\n",
    "ax = amzn['High'].plot(style=\".\", color=\"0.5\")\n",
    "trend.plot(\n",
    "    ax=ax, linewidth=3, title=\"Amazon Stock - 365-Day Moving Average\", legend=False,\n",
    ");"
   ]
  },
  {
   "cell_type": "code",
   "execution_count": 11,
   "id": "ac7453d3",
   "metadata": {
    "execution": {
     "iopub.execute_input": "2022-04-28T01:57:12.885311Z",
     "iopub.status.busy": "2022-04-28T01:57:12.885009Z",
     "iopub.status.idle": "2022-04-28T01:57:12.893316Z",
     "shell.execute_reply": "2022-04-28T01:57:12.892560Z"
    },
    "papermill": {
     "duration": 0.042152,
     "end_time": "2022-04-28T01:57:12.895616",
     "exception": false,
     "start_time": "2022-04-28T01:57:12.853464",
     "status": "completed"
    },
    "tags": []
   },
   "outputs": [],
   "source": [
    "total_days = len(amzn.index)\n",
    "val_cut = amzn.index[int(0.9 * total_days)+1]\n",
    "X_train1 = amzn[amzn.index < val_cut]\n",
    "X_val = amzn[amzn.index >= val_cut]"
   ]
  },
  {
   "cell_type": "code",
   "execution_count": 12,
   "id": "5719bca0",
   "metadata": {
    "execution": {
     "iopub.execute_input": "2022-04-28T01:57:12.958940Z",
     "iopub.status.busy": "2022-04-28T01:57:12.957673Z",
     "iopub.status.idle": "2022-04-28T01:57:12.966293Z",
     "shell.execute_reply": "2022-04-28T01:57:12.965426Z"
    },
    "papermill": {
     "duration": 0.042953,
     "end_time": "2022-04-28T01:57:12.968821",
     "exception": false,
     "start_time": "2022-04-28T01:57:12.925868",
     "status": "completed"
    },
    "tags": []
   },
   "outputs": [],
   "source": [
    "X_tr_tot_days = len(X_train1.index)\n",
    "test_cut = X_train1.index[int(0.75 * X_tr_tot_days)+1]\n",
    "X_train2 = X_train1[X_train1.index < test_cut]\n",
    "X_test = X_train1[X_train1.index >= test_cut]"
   ]
  },
  {
   "cell_type": "code",
   "execution_count": 13,
   "id": "8d5df27b",
   "metadata": {
    "execution": {
     "iopub.execute_input": "2022-04-28T01:57:13.030113Z",
     "iopub.status.busy": "2022-04-28T01:57:13.029845Z",
     "iopub.status.idle": "2022-04-28T01:57:13.040909Z",
     "shell.execute_reply": "2022-04-28T01:57:13.040214Z"
    },
    "papermill": {
     "duration": 0.044645,
     "end_time": "2022-04-28T01:57:13.042979",
     "exception": false,
     "start_time": "2022-04-28T01:57:12.998334",
     "status": "completed"
    },
    "tags": []
   },
   "outputs": [
    {
     "name": "stdout",
     "output_type": "stream",
     "text": [
      "2014-02-10 00:00:00\n",
      "2014-02-11 00:00:00\n",
      "2016-10-19 00:00:00\n",
      "2016-10-20 00:00:00\n"
     ]
    }
   ],
   "source": [
    "print(max(X_train2.index))\n",
    "print(min(X_test.index))\n",
    "print(max(X_test.index))\n",
    "print(min(X_val.index))"
   ]
  },
  {
   "cell_type": "code",
   "execution_count": 14,
   "id": "9fc3334d",
   "metadata": {
    "execution": {
     "iopub.execute_input": "2022-04-28T01:57:13.104367Z",
     "iopub.status.busy": "2022-04-28T01:57:13.103247Z",
     "iopub.status.idle": "2022-04-28T01:57:13.112664Z",
     "shell.execute_reply": "2022-04-28T01:57:13.111836Z"
    },
    "papermill": {
     "duration": 0.042511,
     "end_time": "2022-04-28T01:57:13.114879",
     "exception": false,
     "start_time": "2022-04-28T01:57:13.072368",
     "status": "completed"
    },
    "tags": []
   },
   "outputs": [],
   "source": [
    "X_tr = X_train2.drop('Close', axis=1)\n",
    "X_te = X_test.drop('Close', axis=1)\n",
    "X_val2 = X_val.drop('Close', axis=1)\n",
    "y_tr2 = X_train2['Close']\n",
    "y_te = X_test['Close']\n",
    "y_val = X_val['Close']"
   ]
  },
  {
   "cell_type": "code",
   "execution_count": 15,
   "id": "dc9632fa",
   "metadata": {
    "execution": {
     "iopub.execute_input": "2022-04-28T01:57:13.189123Z",
     "iopub.status.busy": "2022-04-28T01:57:13.188602Z",
     "iopub.status.idle": "2022-04-28T01:57:13.231099Z",
     "shell.execute_reply": "2022-04-28T01:57:13.229917Z"
    },
    "papermill": {
     "duration": 0.083293,
     "end_time": "2022-04-28T01:57:13.233401",
     "exception": false,
     "start_time": "2022-04-28T01:57:13.150108",
     "status": "completed"
    },
    "tags": []
   },
   "outputs": [
    {
     "data": {
      "text/html": [
       "<div>\n",
       "<style scoped>\n",
       "    .dataframe tbody tr th:only-of-type {\n",
       "        vertical-align: middle;\n",
       "    }\n",
       "\n",
       "    .dataframe tbody tr th {\n",
       "        vertical-align: top;\n",
       "    }\n",
       "\n",
       "    .dataframe thead th {\n",
       "        text-align: right;\n",
       "    }\n",
       "</style>\n",
       "<table border=\"1\" class=\"dataframe\">\n",
       "  <thead>\n",
       "    <tr style=\"text-align: right;\">\n",
       "      <th></th>\n",
       "      <th>const</th>\n",
       "      <th>trend</th>\n",
       "      <th>trend_squared</th>\n",
       "      <th>trend_cubed</th>\n",
       "      <th>trend**4</th>\n",
       "    </tr>\n",
       "    <tr>\n",
       "      <th>Date</th>\n",
       "      <th></th>\n",
       "      <th></th>\n",
       "      <th></th>\n",
       "      <th></th>\n",
       "      <th></th>\n",
       "    </tr>\n",
       "  </thead>\n",
       "  <tbody>\n",
       "    <tr>\n",
       "      <th>2006-01-03</th>\n",
       "      <td>1.0</td>\n",
       "      <td>1.0</td>\n",
       "      <td>1.0</td>\n",
       "      <td>1.0</td>\n",
       "      <td>1.0</td>\n",
       "    </tr>\n",
       "    <tr>\n",
       "      <th>2006-01-04</th>\n",
       "      <td>1.0</td>\n",
       "      <td>2.0</td>\n",
       "      <td>4.0</td>\n",
       "      <td>8.0</td>\n",
       "      <td>16.0</td>\n",
       "    </tr>\n",
       "    <tr>\n",
       "      <th>2006-01-05</th>\n",
       "      <td>1.0</td>\n",
       "      <td>3.0</td>\n",
       "      <td>9.0</td>\n",
       "      <td>27.0</td>\n",
       "      <td>81.0</td>\n",
       "    </tr>\n",
       "    <tr>\n",
       "      <th>2006-01-06</th>\n",
       "      <td>1.0</td>\n",
       "      <td>4.0</td>\n",
       "      <td>16.0</td>\n",
       "      <td>64.0</td>\n",
       "      <td>256.0</td>\n",
       "    </tr>\n",
       "    <tr>\n",
       "      <th>2006-01-09</th>\n",
       "      <td>1.0</td>\n",
       "      <td>5.0</td>\n",
       "      <td>25.0</td>\n",
       "      <td>125.0</td>\n",
       "      <td>625.0</td>\n",
       "    </tr>\n",
       "  </tbody>\n",
       "</table>\n",
       "</div>"
      ],
      "text/plain": [
       "            const  trend  trend_squared  trend_cubed  trend**4\n",
       "Date                                                          \n",
       "2006-01-03    1.0    1.0            1.0          1.0       1.0\n",
       "2006-01-04    1.0    2.0            4.0          8.0      16.0\n",
       "2006-01-05    1.0    3.0            9.0         27.0      81.0\n",
       "2006-01-06    1.0    4.0           16.0         64.0     256.0\n",
       "2006-01-09    1.0    5.0           25.0        125.0     625.0"
      ]
     },
     "execution_count": 15,
     "metadata": {},
     "output_type": "execute_result"
    }
   ],
   "source": [
    "dp = DeterministicProcess(\n",
    "    index=X_tr.index,  # dates from the training data\n",
    "    constant=True,       # dummy feature for the bias (y_intercept)\n",
    "    order=4,             # the time dummy (trend)\n",
    "    drop=True,           # drop terms if necessary to avoid collinearity\n",
    ")\n",
    "# `in_sample` creates features for the dates given in the `index` argument\n",
    "X = dp.in_sample()\n",
    "\n",
    "X.head()"
   ]
  },
  {
   "cell_type": "code",
   "execution_count": 16,
   "id": "ef6f0cea",
   "metadata": {
    "execution": {
     "iopub.execute_input": "2022-04-28T01:57:13.296760Z",
     "iopub.status.busy": "2022-04-28T01:57:13.296440Z",
     "iopub.status.idle": "2022-04-28T01:57:13.318256Z",
     "shell.execute_reply": "2022-04-28T01:57:13.317161Z"
    },
    "papermill": {
     "duration": 0.057951,
     "end_time": "2022-04-28T01:57:13.321633",
     "exception": false,
     "start_time": "2022-04-28T01:57:13.263682",
     "status": "completed"
    },
    "tags": []
   },
   "outputs": [],
   "source": [
    "\n",
    "model = LinearRegression(fit_intercept=False)\n",
    "model.fit(X, y_tr2)\n",
    "\n",
    "y_pred = pd.Series(model.predict(X), index=X.index)\n"
   ]
  },
  {
   "cell_type": "code",
   "execution_count": 17,
   "id": "ec566345",
   "metadata": {
    "execution": {
     "iopub.execute_input": "2022-04-28T01:57:13.434612Z",
     "iopub.status.busy": "2022-04-28T01:57:13.434263Z",
     "iopub.status.idle": "2022-04-28T01:57:13.721738Z",
     "shell.execute_reply": "2022-04-28T01:57:13.720912Z"
    },
    "papermill": {
     "duration": 0.34624,
     "end_time": "2022-04-28T01:57:13.723917",
     "exception": false,
     "start_time": "2022-04-28T01:57:13.377677",
     "status": "completed"
    },
    "tags": []
   },
   "outputs": [
    {
     "data": {
      "image/png": "[encoded data removed]",
      "text/plain": [
       "<Figure size 432x288 with 1 Axes>"
      ]
     },
     "metadata": {
      "needs_background": "light"
     },
     "output_type": "display_data"
    }
   ],
   "source": [
    "ax = y_tr2.plot(style=\".\", color=\"0.5\", title=\"Amazon Closing Price - 4th power Trend\")\n",
    "_ = y_pred.plot(ax=ax, linewidth=3, label=\"Trend\")"
   ]
  },
  {
   "cell_type": "code",
   "execution_count": 18,
   "id": "6d0e91b4",
   "metadata": {
    "execution": {
     "iopub.execute_input": "2022-04-28T01:57:13.788335Z",
     "iopub.status.busy": "2022-04-28T01:57:13.787579Z",
     "iopub.status.idle": "2022-04-28T01:57:13.794030Z",
     "shell.execute_reply": "2022-04-28T01:57:13.792904Z"
    },
    "papermill": {
     "duration": 0.041508,
     "end_time": "2022-04-28T01:57:13.796556",
     "exception": false,
     "start_time": "2022-04-28T01:57:13.755048",
     "status": "completed"
    },
    "tags": []
   },
   "outputs": [
    {
     "name": "stdout",
     "output_type": "stream",
     "text": [
      "X_test_length: 679\n",
      "X_val_length: 301\n",
      "X_test_val_length: 980\n"
     ]
    }
   ],
   "source": [
    "print(f'X_test_length: {len(X_test)}')\n",
    "print(f'X_val_length: {len(X_val)}')\n",
    "print(f'X_test_val_length: {len(X_test)+len(X_val)}')"
   ]
  },
  {
   "cell_type": "code",
   "execution_count": 19,
   "id": "ca2b6d74",
   "metadata": {
    "execution": {
     "iopub.execute_input": "2022-04-28T01:57:13.863209Z",
     "iopub.status.busy": "2022-04-28T01:57:13.862247Z",
     "iopub.status.idle": "2022-04-28T01:57:13.870243Z",
     "shell.execute_reply": "2022-04-28T01:57:13.869333Z"
    },
    "papermill": {
     "duration": 0.04422,
     "end_time": "2022-04-28T01:57:13.873030",
     "exception": false,
     "start_time": "2022-04-28T01:57:13.828810",
     "status": "completed"
    },
    "tags": []
   },
   "outputs": [],
   "source": [
    "X_test_val = pd.concat([X_test, X_val], axis=0)"
   ]
  },
  {
   "cell_type": "code",
   "execution_count": 20,
   "id": "1d3963df",
   "metadata": {
    "execution": {
     "iopub.execute_input": "2022-04-28T01:57:13.945783Z",
     "iopub.status.busy": "2022-04-28T01:57:13.945251Z",
     "iopub.status.idle": "2022-04-28T01:57:13.955613Z",
     "shell.execute_reply": "2022-04-28T01:57:13.954857Z"
    },
    "papermill": {
     "duration": 0.051107,
     "end_time": "2022-04-28T01:57:13.957613",
     "exception": false,
     "start_time": "2022-04-28T01:57:13.906506",
     "status": "completed"
    },
    "tags": []
   },
   "outputs": [
    {
     "data": {
      "text/plain": [
       "Date\n",
       "2014-02-11    363.487115\n",
       "2014-02-12    363.927137\n",
       "2014-02-13    364.367808\n",
       "2014-02-14    364.809129\n",
       "2014-02-18    365.251100\n",
       "dtype: float64"
      ]
     },
     "execution_count": 20,
     "metadata": {},
     "output_type": "execute_result"
    }
   ],
   "source": [
    "X_out = dp.out_of_sample(steps=679, forecast_index=X_te.index)\n",
    "\n",
    "y_fore = pd.Series(model.predict(X_out), index=X_out.index)\n",
    "\n",
    "y_fore.head()"
   ]
  },
  {
   "cell_type": "code",
   "execution_count": 21,
   "id": "af5a8997",
   "metadata": {
    "execution": {
     "iopub.execute_input": "2022-04-28T01:57:14.025508Z",
     "iopub.status.busy": "2022-04-28T01:57:14.025018Z",
     "iopub.status.idle": "2022-04-28T01:57:14.037209Z",
     "shell.execute_reply": "2022-04-28T01:57:14.036343Z"
    },
    "papermill": {
     "duration": 0.049466,
     "end_time": "2022-04-28T01:57:14.039510",
     "exception": false,
     "start_time": "2022-04-28T01:57:13.990044",
     "status": "completed"
    },
    "tags": []
   },
   "outputs": [
    {
     "data": {
      "text/plain": [
       "Date\n",
       "2014-02-11    363.487115\n",
       "2014-02-12    363.927137\n",
       "2014-02-13    364.367808\n",
       "2014-02-14    364.809129\n",
       "2014-02-18    365.251100\n",
       "dtype: float64"
      ]
     },
     "execution_count": 21,
     "metadata": {},
     "output_type": "execute_result"
    }
   ],
   "source": [
    "X_out_val = dp.out_of_sample(steps=980, forecast_index=X_test_val.index)\n",
    "\n",
    "y_fore_val = pd.Series(model.predict(X_out_val), index=X_out_val.index)\n",
    "\n",
    "y_fore_val.head()"
   ]
  },
  {
   "cell_type": "code",
   "execution_count": 22,
   "id": "0a70db4b",
   "metadata": {
    "execution": {
     "iopub.execute_input": "2022-04-28T01:57:14.107946Z",
     "iopub.status.busy": "2022-04-28T01:57:14.107614Z",
     "iopub.status.idle": "2022-04-28T01:57:14.640005Z",
     "shell.execute_reply": "2022-04-28T01:57:14.639144Z"
    },
    "papermill": {
     "duration": 0.569171,
     "end_time": "2022-04-28T01:57:14.642143",
     "exception": false,
     "start_time": "2022-04-28T01:57:14.072972",
     "status": "completed"
    },
    "tags": []
   },
   "outputs": [
    {
     "data": {
      "image/png": "[encoded data removed]",
      "text/plain": [
       "<Figure size 432x288 with 1 Axes>"
      ]
     },
     "metadata": {
      "needs_background": "light"
     },
     "output_type": "display_data"
    }
   ],
   "source": [
    "ax = y_tr2.plot(style=\".\", color=\"0.5\", title=\"Amazon Daily Closing Price\")\n",
    "ax = y_te.plot(style=\".\", color=\"0.5\",)\n",
    "ax = y_val.plot(style=\".\", color=\"0.5\")\n",
    "ax = y_pred.plot(ax=ax, linewidth=3, label=\"Train\")\n",
    "ax = y_fore.plot(ax=ax, linewidth=3, label=\"Test Forecast\", color=\"C3\")\n",
    "ax = y_fore_val.plot(ax=ax, linewidth=3, label=\"Test + Val Forecast\", color=\"green\")\n",
    "_ = ax.legend()"
   ]
  },
  {
   "cell_type": "code",
   "execution_count": null,
   "id": "13227012",
   "metadata": {
    "papermill": {
     "duration": 0.03471,
     "end_time": "2022-04-28T01:57:14.712218",
     "exception": false,
     "start_time": "2022-04-28T01:57:14.677508",
     "status": "completed"
    },
    "tags": []
   },
   "outputs": [],
   "source": []
  }
 ],
 "metadata": {
  "kernelspec": {
   "display_name": "Python 3",
   "language": "python",
   "name": "python3"
  },
  "language_info": {
   "codemirror_mode": {
    "name": "ipython",
    "version": 3
   },
   "file_extension": ".py",
   "mimetype": "text/x-python",
   "name": "python",
   "nbconvert_exporter": "python",
   "pygments_lexer": "ipython3",
   "version": "3.7.12"
  },
  "papermill": {
   "default_parameters": {},
   "duration": 15.725572,
   "end_time": "2022-04-28T01:57:15.570873",
   "environment_variables": {},
   "exception": null,
   "input_path": "__notebook__.ipynb",
   "output_path": "__notebook__.ipynb",
   "parameters": {},
   "start_time": "2022-04-28T01:56:59.845301",
   "version": "2.3.4"
  }
 },
 "nbformat": 4,
 "nbformat_minor": 5
}
